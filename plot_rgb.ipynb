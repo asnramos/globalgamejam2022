{
  "cells": [
    {
      "cell_type": "code",
      "execution_count": null,
      "metadata": {
        "collapsed": false
      },
      "outputs": [],
      "source": [
        "%matplotlib inline"
      ]
    },
    {
      "cell_type": "markdown",
      "metadata": {},
      "source": [
        "\n# Plot Combinations of Raster Bands Using EarthPy\nLearn how to plot different band combinations from satellite imagery using EarthPy\n"
      ]
    },
    {
      "cell_type": "markdown",
      "metadata": {},
      "source": [
        "## Create Composite Images Using EarthPy\n\n<div class=\"alert alert-info\"><h4>Note</h4><p>The examples below will show you how to use the ``plot_rgb()``\n   function from EarthPy to plot different band combinations and\n   create composite images from satellite imagery such as Landsat.</p></div>\n\nA color image consists of three band channels displayed together: red, green,\nand blue. Some remote sensing datasets such as Landsat collect data across\nmany spectral bands and are stored with each band in a separate file. These\nbands can be combined to create true color composites (or RGB images) as well\nas color infrared (CIR) composites, which highlight vegetation in the image.\nTo create an RGB image, you need to plot the red, green, and blue bands,\nrespectively, such that red band is plotted on the red channel, green on the\ngreen, etc. In a color infrared image (sometimes called a false color image),\nthe near-infrared (NIR) band is plotted on the red channel. Thus,\nvegetation, which reflects strongly in the NIR part of the electromagnetic\nspectrum, will appear \"red\" in the resulting composite image.\n\nThe example below walks you through a typical workflow for plotting different\nband combinations to create RGB (true color) and CIR (false color) composite\nimages. You will create a stack of bands using Landsat 8 data and then plot\nthe different band combinations using the ``plot_rgb()`` function. You will\nalso learn how to stretch the image values to brighten dark images, how to\noverlay polygon boundaries on the images, and how to create figures that\ncontain multiple plots.\n\n"
      ]
    },
    {
      "cell_type": "markdown",
      "metadata": {},
      "source": [
        "## Import Packages\n\nTo begin, import the needed packages. You will use a combination of several\nEarthPy modules including spatial and plot.\n\n"
      ]
    },
    {
      "cell_type": "code",
      "execution_count": null,
      "metadata": {
        "collapsed": false
      },
      "outputs": [],
      "source": [
        "import os\nfrom glob import glob\nimport matplotlib.pyplot as plt\nimport rasterio as rio\nfrom rasterio.plot import plotting_extent\nimport geopandas as gpd\nimport earthpy as et\nimport earthpy.spatial as es\nimport earthpy.plot as ep"
      ]
    },
    {
      "cell_type": "markdown",
      "metadata": {},
      "source": [
        "## Import and Stack Example Data\nTo plot band combinations and create composite images using ``plot_rgb()``,\nthe bands of a satellite image such as those from Landsat, need to be stacked\ninto one file. With EarthPy, you can create an image stack from all of the\nLandsat .tif files (one per band) in a directory using the ``stack()`` function\nfrom the ``earthpy.spatial`` module.\n\n"
      ]
    },
    {
      "cell_type": "markdown",
      "metadata": {},
      "source": [
        "## Error found on Windows systems\n<div class=\"alert alert-info\"><h4>Note</h4><p>If you are running this script on a Windows system, there is a\n      known bug with ``.to_crs()``, which is used in this script. If an error\n      occurs, you have to reset your os environment with the command\n      ``os.environ[\"PROJ_LIB\"] = r\"path-to-share-folder-in-environment\"``.</p></div>\n\n"
      ]
    },
    {
      "cell_type": "code",
      "execution_count": null,
      "metadata": {
        "collapsed": false
      },
      "outputs": [],
      "source": [
        "# Get sample data from EarthPy and set working directory\ndata_path = et.data.get_data(\"vignette-landsat\")\nos.chdir(os.path.join(et.io.HOME, \"earth-analytics\"))\n\n# Get list of bands and sort by ascending band number\nlandsat_bands_data_path = \"data/vignette-landsat/LC08_L1TP_034032_20160621_20170221_01_T1_sr_band*[1-7]*.tif\"\nstack_band_paths = glob(landsat_bands_data_path)\nstack_band_paths.sort()\n\n# Create image stack and apply nodata value for Landsat\narr_st, meta = es.stack(stack_band_paths, nodata=-9999)"
      ]
    },
    {
      "cell_type": "markdown",
      "metadata": {},
      "source": [
        "## Plot RGB Composite Image\nYou can use the ``plot_rgb()`` function from the ``earthpy.plot`` module to quickly\nplot three band composite images. For RGB composite images, you will plot the red,\ngreen, and blue bands, which are bands 4, 3, and 2, respectively, in the image\nstack you created. Python uses a zero-based index system, so you need to subtract\na value of 1 from each index. Thus, the index for the red band is 3, green is 2,\nand blue is 1. These index values are provided to the ``rgb`` argument to identify\nthe bands for the composite image.\n\n"
      ]
    },
    {
      "cell_type": "code",
      "execution_count": null,
      "metadata": {
        "collapsed": false
      },
      "outputs": [],
      "source": [
        "# Create figure with one plot\nfig, ax = plt.subplots(figsize=(12, 12))\n\n# Plot red, green, and blue bands, respectively\nep.plot_rgb(arr_st, rgb=(3, 2, 1), ax=ax, title=\"Landsat 8 RGB Image\")\nplt.show()"
      ]
    },
    {
      "cell_type": "markdown",
      "metadata": {},
      "source": [
        "## Stretch Composite Images\nComposite images can sometimes be dark if the pixel brightness values are\nskewed toward the value of zero. You can stretch the pixel brightness values\nin an image using the argument ``stretch=True`` to extend the values to the\nfull 0-255 range of potential values to increase the visual contrast of the\nimage. In addition, the ``str_clip`` argument allows you to specify how much of\nthe tails of the data that you want to clip off. The larger the number, the\nmore the data will be stretched or brightened.\n\n"
      ]
    },
    {
      "cell_type": "code",
      "execution_count": null,
      "metadata": {
        "collapsed": false
      },
      "outputs": [],
      "source": [
        "# Create figure with one plot\nfig, ax = plt.subplots(figsize=(12, 12))\n\n# Plot bands with stretched applied\nep.plot_rgb(\n    arr_st,\n    rgb=(3, 2, 1),\n    ax=ax,\n    stretch=True,\n    str_clip=0.5,\n    title=\"Landsat 8 RGB Image with Stretch Applied\",\n)\nplt.show()"
      ]
    },
    {
      "cell_type": "markdown",
      "metadata": {},
      "source": [
        "## Plot Color Infrared (CIR) Composite Image\nFor color infrared (CIR) composite images, you will plot the near-infrared (NIR),\nred, and green bands, which are bands 5, 4, 2, respectively. Once again, the\nPython index values will be the original band number minus 1, thus, 4, 3, and 2\nfor NIR, red, and green, respectively.\n\n"
      ]
    },
    {
      "cell_type": "code",
      "execution_count": null,
      "metadata": {
        "collapsed": false
      },
      "outputs": [],
      "source": [
        "# Create figure with one plot\nfig, ax = plt.subplots(figsize=(12, 12))\n\n# Plot NIR, red, and green bands, respectively, with stretch\nep.plot_rgb(\n    arr_st,\n    rgb=(4, 3, 2),\n    ax=ax,\n    stretch=True,\n    str_clip=0.5,\n    title=\"Landsat 8 CIR Image with Stretch Applied\",\n)\nplt.show()"
      ]
    },
    {
      "cell_type": "markdown",
      "metadata": {},
      "source": [
        "## Plot Boundary Over Composite Image\n<div class=\"alert alert-info\"><h4>Note</h4><p>If you are on windows, you may need to add the crs issue discussed above\n      here!</p></div>\n\nYou can overlay a polygon boundary on top of an RGB plot created with EarthPy.\nTo begin, the raster data and the boundary need to be in the same\nCoordinate Reference System (CRS). You can reproject the boundary layer to\nmatch the CRS of the image by getting the CRS of the image from the Rasterio\nprofile object and passing that CRS to the ``to_crs`` method from GeoPandas.\n\n"
      ]
    },
    {
      "cell_type": "code",
      "execution_count": null,
      "metadata": {
        "collapsed": false
      },
      "outputs": [],
      "source": [
        "os.chdir(os.path.join(et.io.HOME, \"earth-analytics\"))\n\n# Open polygon boundary using GeoPandas\nbound = gpd.read_file(\n    \"data/vignette-landsat/vector_layers/fire-boundary-geomac/co_cold_springs_20160711_2200_dd83.shp\"\n)\n\n# Reproject boundary to match CRS of the Landsat images\nwith rio.open(stack_band_paths[0]) as raster_crs:\n    raster_profile = raster_crs.profile\n    bound_utm13N = bound.to_crs(raster_profile[\"crs\"])"
      ]
    },
    {
      "cell_type": "markdown",
      "metadata": {},
      "source": [
        "## Create a Plot With the Boundary overlayed on the RGB Image\nYou can plot a polygon boundary over an image by creating a raster extent\nfor the plot using the ``plotting_extent`` function from ``rasterio.plot``.\nThe function needs the Rasterio profile of the image and a single layer of a\nnumpy array, which can be specified with ``arr_str[0]``. The function also\nneeds the spatial transformation for the Rasterio object, which can be acquired\nby accessing the ``\"transform\"`` key within the Rasterio profile.\n\n"
      ]
    },
    {
      "cell_type": "code",
      "execution_count": null,
      "metadata": {
        "collapsed": false
      },
      "outputs": [],
      "source": [
        "# Create raster extent for the plot\nextent = plotting_extent(arr_st[0], raster_profile[\"transform\"])\n\n# Create figure with one plot\nfig, ax = plt.subplots(figsize=(12, 12))\n\n# Plot boundary with high zorder for contrast\nbound_utm13N.boundary.plot(ax=ax, color=\"black\", zorder=10)\n\n# Plot CIR image using the raster extent\nep.plot_rgb(\n    arr_st,\n    rgb=(4, 3, 2),\n    ax=ax,\n    stretch=True,\n    extent=extent,\n    str_clip=0.5,\n    title=\"Landsat 8 CIR Image with Polygon Boundary\",\n)\nplt.show()"
      ]
    },
    {
      "cell_type": "markdown",
      "metadata": {},
      "source": [
        "## Create Figure with Multiple Axes or Subplots\n```plot_rgb()`` has an ``ax=`` parameter which supports subplots. You can\ncreate figures that contain multiple plots by creating multiple ax\nobjects, one for each plot. You can also specify the number of rows and\ncolumns in which to display the plots. In the example below, the two plots\nwill be displayed side-by-side along one row with two columns.\n\n"
      ]
    },
    {
      "cell_type": "code",
      "execution_count": null,
      "metadata": {
        "collapsed": false
      },
      "outputs": [],
      "source": [
        "# Create figure with two plots\nfig, (ax1, ax2) = plt.subplots(1, 2, figsize=(12, 6))\n\n# Plot of RGB composite image with polygon boundary\nbound_utm13N.boundary.plot(ax=ax1, color=\"black\", zorder=10)\nax1 = ep.plot_rgb(\n    arr_st,\n    rgb=(3, 2, 1),\n    ax=ax1,\n    stretch=True,\n    extent=extent,\n    str_clip=0.5,\n    title=\"Landsat 8 RGB Image with Polygon Boundary\",\n)\n\n# Plot of CIR composite image with polygon boundary\nbound_utm13N.boundary.plot(ax=ax2, color=\"black\", zorder=10)\nax2 = ep.plot_rgb(\n    arr_st,\n    rgb=(4, 3, 2),\n    ax=ax2,\n    stretch=True,\n    extent=extent,\n    str_clip=0.5,\n    title=\"Landsat 8 CIR Image with Polygon Boundary\",\n)\nplt.show()"
      ]
    }
  ],
  "metadata": {
    "kernelspec": {
      "display_name": "Python 3",
      "language": "python",
      "name": "python3"
    },
    "language_info": {
      "codemirror_mode": {
        "name": "ipython",
        "version": 3
      },
      "file_extension": ".py",
      "mimetype": "text/x-python",
      "name": "python",
      "nbconvert_exporter": "python",
      "pygments_lexer": "ipython3",
      "version": "3.7.9"
    }
  },
  "nbformat": 4,
  "nbformat_minor": 0
}