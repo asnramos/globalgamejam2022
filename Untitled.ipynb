{
 "cells": [
  {
   "cell_type": "code",
   "execution_count": 2,
   "id": "a959481a",
   "metadata": {},
   "outputs": [],
   "source": [
    "import pandas as pd"
   ]
  },
  {
   "cell_type": "code",
   "execution_count": 3,
   "id": "3ea0d53f",
   "metadata": {},
   "outputs": [],
   "source": [
    "datos = pd.read_excel('LAQUIACA-2019-JUNIO.xlsx')"
   ]
  },
  {
   "cell_type": "code",
   "execution_count": 4,
   "id": "7399b0c0",
   "metadata": {},
   "outputs": [
    {
     "name": "stdout",
     "output_type": "stream",
     "text": [
      "       MESA  ORDEN           ESCUELA TIPO DE EJEMPLAR  MATRICULA APELLIDO  \\\n",
      "0      1620      1               EET           DNI-EA    8000677   PRIETO   \n",
      "1      1620      2               EET              DNI   28314207    ABALO   \n",
      "2      1620      3               EET           DNI-EA   33844704    ABALO   \n",
      "3      1620      4               EET           DNI-EA    8012954    ABALO   \n",
      "4      1620      5               EET           DNI-EB   28727558    ABALO   \n",
      "...     ...    ...               ...              ...        ...      ...   \n",
      "14299  1662    328  ESCUELA FRONTERA           DNI-EA   41401783   ZUTARA   \n",
      "14300  1662    329  ESCUELA FRONTERA           DNI-EA   39401859   ZUTARA   \n",
      "14301  1662    330  ESCUELA FRONTERA           DNI-ED   40765421   ZUTARA   \n",
      "14302  1662    331  ESCUELA FRONTERA           DNI-EC   12231832   ZUTARA   \n",
      "14303  1662    332  ESCUELA FRONTERA           DNI-EC   21319985   ZUTARA   \n",
      "\n",
      "                NOMBRE  CLASE GENERO  \\\n",
      "0          RAUL MANUEL   1948      M   \n",
      "1         BELEN ZULEMA   1980      F   \n",
      "2      BETSABE AMERICA   1988      F   \n",
      "3         LUIS ALBERTO   1950      M   \n",
      "4         LUIS ENRIQUE   1982      M   \n",
      "...                ...    ...    ...   \n",
      "14299    CELESTE NOEMI   1998      F   \n",
      "14300   CRISTIAN ARIEL   1996      M   \n",
      "14301   DANTE SALVADOR   1997      M   \n",
      "14302          DOROTEA   1956      F   \n",
      "14303          HILARIO   1972      M   \n",
      "\n",
      "                                      DOMICILIO    SECCION           CIRCUITO  \\\n",
      "0                              AV. LAMADRID 344  15 - YAVI  118   - LA QUIACA   \n",
      "1                              BELGRANO 797 S/N  15 - YAVI  118   - LA QUIACA   \n",
      "2                                  BELGRANO 797  15 - YAVI  118   - LA QUIACA   \n",
      "3                                  BELGRANO 797  15 - YAVI  118   - LA QUIACA   \n",
      "4      AV. MARIA MAIDANA ESQ. PJE. LIBERTAD S/N  15 - YAVI  118   - LA QUIACA   \n",
      "...                                         ...        ...                ...   \n",
      "14299             SAN CAYETANO-PAT.ARGENTIN 287  15 - YAVI  118   - LA QUIACA   \n",
      "14300                            ARGENTINAS 287  15 - YAVI  118   - LA QUIACA   \n",
      "14301                   MINEROS DEL AGUILAR 561  15 - YAVI  118   - LA QUIACA   \n",
      "14302                 TAMBORCITO DE TACUARI 616  15 - YAVI  118   - LA QUIACA   \n",
      "14303               S.CAYETANO-P.ARGENTINAS 287  15 - YAVI  118   - LA QUIACA   \n",
      "\n",
      "       MESA.1  ORDEN_MESA         ESCUELA.1  TX_SECC_NUMERO  TX_CIRC_NUMERO  \n",
      "0        1620           1               EET              15             118  \n",
      "1        1620           2               EET              15             118  \n",
      "2        1620           3               EET              15             118  \n",
      "3        1620           4               EET              15             118  \n",
      "4        1620           5               EET              15             118  \n",
      "...       ...         ...               ...             ...             ...  \n",
      "14299    1662         328  ESCUELA FRONTERA              15             118  \n",
      "14300    1662         329  ESCUELA FRONTERA              15             118  \n",
      "14301    1662         330  ESCUELA FRONTERA              15             118  \n",
      "14302    1662         331  ESCUELA FRONTERA              15             118  \n",
      "14303    1662         332  ESCUELA FRONTERA              15             118  \n",
      "\n",
      "[14304 rows x 17 columns]\n"
     ]
    }
   ],
   "source": [
    "print (datos)"
   ]
  },
  {
   "cell_type": "code",
   "execution_count": 5,
   "id": "9918a03d",
   "metadata": {},
   "outputs": [
    {
     "name": "stdout",
     "output_type": "stream",
     "text": [
      "['MESA', 'ORDEN', 'ESCUELA', 'TIPO DE EJEMPLAR', 'MATRICULA', 'APELLIDO', 'NOMBRE', 'CLASE', 'GENERO', 'DOMICILIO', 'SECCION', 'CIRCUITO', 'MESA.1', 'ORDEN_MESA', 'ESCUELA.1', 'TX_SECC_NUMERO', 'TX_CIRC_NUMERO']\n"
     ]
    }
   ],
   "source": [
    "print(list(datos.columns.values))"
   ]
  },
  {
   "cell_type": "code",
   "execution_count": 6,
   "id": "47cf0dd1",
   "metadata": {},
   "outputs": [],
   "source": [
    "COLEGIOS = datos['ESCUELA']"
   ]
  },
  {
   "cell_type": "code",
   "execution_count": 7,
   "id": "bf0fcbbd",
   "metadata": {},
   "outputs": [
    {
     "name": "stdout",
     "output_type": "stream",
     "text": [
      "---------------------------------------------------------------\n",
      "Colegios :  0                     EET\n",
      "1                     EET\n",
      "2                     EET\n",
      "3                     EET\n",
      "4                     EET\n",
      "               ...       \n",
      "14299    ESCUELA FRONTERA\n",
      "14300    ESCUELA FRONTERA\n",
      "14301    ESCUELA FRONTERA\n",
      "14302    ESCUELA FRONTERA\n",
      "14303    ESCUELA FRONTERA\n",
      "Name: ESCUELA, Length: 14304, dtype: object\n",
      "---------------------------------------------------------------\n",
      "Existen  14304  colegios.\n",
      "---------------------------------------------------------------\n"
     ]
    }
   ],
   "source": [
    "print (\"---------------------------------------------------------------\")\n",
    "print (\"Colegios : \", COLEGIOS)\n",
    "\n",
    "print (\"---------------------------------------------------------------\")\n",
    "print (\"Existen \", str(len(COLEGIOS)), \" colegios.\")\n",
    "print (\"---------------------------------------------------------------\")"
   ]
  },
  {
   "cell_type": "code",
   "execution_count": 9,
   "id": "68003968",
   "metadata": {},
   "outputs": [
    {
     "data": {
      "text/plain": [
       "array(['EET', 'NORMAL SECUNDARIA', 'NORMAL PRIMARIA', 'ESCUELA FRONTERA'],\n",
       "      dtype=object)"
      ]
     },
     "execution_count": 9,
     "metadata": {},
     "output_type": "execute_result"
    }
   ],
   "source": [
    "datos['ESCUELA'].unique()"
   ]
  },
  {
   "cell_type": "code",
   "execution_count": 15,
   "id": "5a548b40",
   "metadata": {},
   "outputs": [
    {
     "data": {
      "text/html": [
       "<div>\n",
       "<style scoped>\n",
       "    .dataframe tbody tr th:only-of-type {\n",
       "        vertical-align: middle;\n",
       "    }\n",
       "\n",
       "    .dataframe tbody tr th {\n",
       "        vertical-align: top;\n",
       "    }\n",
       "\n",
       "    .dataframe thead th {\n",
       "        text-align: right;\n",
       "    }\n",
       "</style>\n",
       "<table border=\"1\" class=\"dataframe\">\n",
       "  <thead>\n",
       "    <tr style=\"text-align: right;\">\n",
       "      <th></th>\n",
       "      <th>MESA</th>\n",
       "      <th>ORDEN</th>\n",
       "      <th>MATRICULA</th>\n",
       "      <th>CLASE</th>\n",
       "      <th>MESA.1</th>\n",
       "      <th>ORDEN_MESA</th>\n",
       "      <th>TX_SECC_NUMERO</th>\n",
       "      <th>TX_CIRC_NUMERO</th>\n",
       "    </tr>\n",
       "  </thead>\n",
       "  <tbody>\n",
       "    <tr>\n",
       "      <th>count</th>\n",
       "      <td>14304.000000</td>\n",
       "      <td>14304.000000</td>\n",
       "      <td>1.430400e+04</td>\n",
       "      <td>14304.000000</td>\n",
       "      <td>14304.000000</td>\n",
       "      <td>14304.000000</td>\n",
       "      <td>14304.0</td>\n",
       "      <td>14304.0</td>\n",
       "    </tr>\n",
       "    <tr>\n",
       "      <th>mean</th>\n",
       "      <td>1640.985319</td>\n",
       "      <td>166.825923</td>\n",
       "      <td>2.788339e+07</td>\n",
       "      <td>1966.164080</td>\n",
       "      <td>1640.985319</td>\n",
       "      <td>166.825923</td>\n",
       "      <td>15.0</td>\n",
       "      <td>118.0</td>\n",
       "    </tr>\n",
       "    <tr>\n",
       "      <th>std</th>\n",
       "      <td>12.407535</td>\n",
       "      <td>96.031633</td>\n",
       "      <td>1.139491e+07</td>\n",
       "      <td>157.441805</td>\n",
       "      <td>12.407535</td>\n",
       "      <td>96.031633</td>\n",
       "      <td>0.0</td>\n",
       "      <td>0.0</td>\n",
       "    </tr>\n",
       "    <tr>\n",
       "      <th>min</th>\n",
       "      <td>1620.000000</td>\n",
       "      <td>1.000000</td>\n",
       "      <td>5.809310e+05</td>\n",
       "      <td>0.000000</td>\n",
       "      <td>1620.000000</td>\n",
       "      <td>1.000000</td>\n",
       "      <td>15.0</td>\n",
       "      <td>118.0</td>\n",
       "    </tr>\n",
       "    <tr>\n",
       "      <th>25%</th>\n",
       "      <td>1630.000000</td>\n",
       "      <td>84.000000</td>\n",
       "      <td>1.872618e+07</td>\n",
       "      <td>1967.000000</td>\n",
       "      <td>1630.000000</td>\n",
       "      <td>84.000000</td>\n",
       "      <td>15.0</td>\n",
       "      <td>118.0</td>\n",
       "    </tr>\n",
       "    <tr>\n",
       "      <th>50%</th>\n",
       "      <td>1641.000000</td>\n",
       "      <td>167.000000</td>\n",
       "      <td>2.962977e+07</td>\n",
       "      <td>1982.000000</td>\n",
       "      <td>1641.000000</td>\n",
       "      <td>167.000000</td>\n",
       "      <td>15.0</td>\n",
       "      <td>118.0</td>\n",
       "    </tr>\n",
       "    <tr>\n",
       "      <th>75%</th>\n",
       "      <td>1652.000000</td>\n",
       "      <td>250.000000</td>\n",
       "      <td>3.764507e+07</td>\n",
       "      <td>1993.000000</td>\n",
       "      <td>1652.000000</td>\n",
       "      <td>250.000000</td>\n",
       "      <td>15.0</td>\n",
       "      <td>118.0</td>\n",
       "    </tr>\n",
       "    <tr>\n",
       "      <th>max</th>\n",
       "      <td>1662.000000</td>\n",
       "      <td>333.000000</td>\n",
       "      <td>5.342218e+07</td>\n",
       "      <td>2003.000000</td>\n",
       "      <td>1662.000000</td>\n",
       "      <td>333.000000</td>\n",
       "      <td>15.0</td>\n",
       "      <td>118.0</td>\n",
       "    </tr>\n",
       "  </tbody>\n",
       "</table>\n",
       "</div>"
      ],
      "text/plain": [
       "               MESA         ORDEN     MATRICULA         CLASE        MESA.1  \\\n",
       "count  14304.000000  14304.000000  1.430400e+04  14304.000000  14304.000000   \n",
       "mean    1640.985319    166.825923  2.788339e+07   1966.164080   1640.985319   \n",
       "std       12.407535     96.031633  1.139491e+07    157.441805     12.407535   \n",
       "min     1620.000000      1.000000  5.809310e+05      0.000000   1620.000000   \n",
       "25%     1630.000000     84.000000  1.872618e+07   1967.000000   1630.000000   \n",
       "50%     1641.000000    167.000000  2.962977e+07   1982.000000   1641.000000   \n",
       "75%     1652.000000    250.000000  3.764507e+07   1993.000000   1652.000000   \n",
       "max     1662.000000    333.000000  5.342218e+07   2003.000000   1662.000000   \n",
       "\n",
       "         ORDEN_MESA  TX_SECC_NUMERO  TX_CIRC_NUMERO  \n",
       "count  14304.000000         14304.0         14304.0  \n",
       "mean     166.825923            15.0           118.0  \n",
       "std       96.031633             0.0             0.0  \n",
       "min        1.000000            15.0           118.0  \n",
       "25%       84.000000            15.0           118.0  \n",
       "50%      167.000000            15.0           118.0  \n",
       "75%      250.000000            15.0           118.0  \n",
       "max      333.000000            15.0           118.0  "
      ]
     },
     "execution_count": 15,
     "metadata": {},
     "output_type": "execute_result"
    }
   ],
   "source": [
    "datos.describe()\n"
   ]
  },
  {
   "cell_type": "code",
   "execution_count": 16,
   "id": "593627c1",
   "metadata": {},
   "outputs": [
    {
     "data": {
      "image/png": "[encoded data removed]",
      "text/plain": [
       "<Figure size 432x288 with 1 Axes>"
      ]
     },
     "metadata": {
      "needs_background": "light"
     },
     "output_type": "display_data"
    }
   ],
   "source": [
    "from matplotlib import pyplot as plt\n",
    "\n",
    "####---------------------------------------------------------------\n",
    "#### GRAFICA MODO BARRAS HORIZONTALES por eso es: BARH\n",
    "plot_barras = datos['ESCUELA'].value_counts().plot(kind='barh', title='MESAS CANTIDAD de VOTANTES')\n",
    "plt.show()\n",
    "####---------------------------------------------------------------"
   ]
  },
  {
   "cell_type": "code",
   "execution_count": 17,
   "id": "7eb1ea1d",
   "metadata": {},
   "outputs": [
    {
     "data": {
      "image/png": "[encoded data removed]",
      "text/plain": [
       "<Figure size 432x288 with 1 Axes>"
      ]
     },
     "metadata": {
      "needs_background": "light"
     },
     "output_type": "display_data"
    }
   ],
   "source": [
    "####---------------------------------------------------------------\n",
    "#### GRAFICA MODO BARRAS VERTICALES por eso es solo: BAR\n",
    "plot_barras = datos['ESCUELA'].value_counts().plot(kind='bar', title='MESAS CANTIDAD de VOTANTES')\n",
    "plt.show()\n",
    "##\n",
    "####---------------------------------------------------------------"
   ]
  },
  {
   "cell_type": "code",
   "execution_count": 18,
   "id": "5dd9889c",
   "metadata": {},
   "outputs": [
    {
     "data": {
      "image/png": "[encoded data removed]",
      "text/plain": [
       "<Figure size 576x576 with 1 Axes>"
      ]
     },
     "metadata": {},
     "output_type": "display_data"
    }
   ],
   "source": [
    "####---------------------------------------------------------------\n",
    "##\n",
    "#### GRAFICA MODO TORTA o PIE...\n",
    "plot_torta = datos['ESCUELA'].value_counts().plot(kind='pie', autopct='%.2f', figsize=(8, 8),\n",
    "                                            title='PORCENTAJE de VOTANTES por ESCUELAS')\n",
    "plt.show()\n",
    "##\n",
    "####---------------------------------------------------------------"
   ]
  },
  {
   "cell_type": "code",
   "execution_count": null,
   "id": "26d0320f",
   "metadata": {},
   "outputs": [],
   "source": []
  }
 ],
 "metadata": {
  "kernelspec": {
   "display_name": "Python 3",
   "language": "python",
   "name": "python3"
  },
  "language_info": {
   "codemirror_mode": {
    "name": "ipython",
    "version": 3
   },
   "file_extension": ".py",
   "mimetype": "text/x-python",
   "name": "python",
   "nbconvert_exporter": "python",
   "pygments_lexer": "ipython3",
   "version": "3.8.7"
  }
 },
 "nbformat": 4,
 "nbformat_minor": 5
}
