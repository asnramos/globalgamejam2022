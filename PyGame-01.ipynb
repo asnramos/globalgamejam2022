{
 "cells": [
  {
   "cell_type": "code",
   "execution_count": null,
   "id": "70bf271a",
   "metadata": {},
   "outputs": [],
   "source": [
    "import sys\n",
    "import pygame\n",
    "# Inicializamos pygame\n",
    "pygame.init()\n",
    "# Muestro una ventana de 800x600\n",
    "size = 800, 600\n",
    "screen = pygame.display.set_mode(size)\n",
    "# Cambio el título de la ventana\n",
    "pygame.display.set_caption('Juego LUCIANO')\n",
    "# Comenzamos el bucle del juego\n",
    "run=True\n",
    "while run:\n",
    "        # Capturamos los eventos que se han producido\n",
    "        for event in pygame.event.get():\n",
    "            # Si el evento es salir de la ventana, terminamos\n",
    "            if event.type == pygame.QUIT: run = False\n",
    "        # Salgo de pygame\n",
    "pygame.quit()"
   ]
  },
  {
   "cell_type": "code",
   "execution_count": 7,
   "id": "53470835",
   "metadata": {},
   "outputs": [
    {
     "name": "stdout",
     "output_type": "stream",
     "text": [
      "Ingrese algun nombre : Luciano\n"
     ]
    }
   ],
   "source": [
    "nombre = input(\"Ingrese algun nombre : \")"
   ]
  },
  {
   "cell_type": "code",
   "execution_count": 8,
   "id": "0285132a",
   "metadata": {},
   "outputs": [
    {
     "name": "stdout",
     "output_type": "stream",
     "text": [
      "nombre\n"
     ]
    }
   ],
   "source": [
    "print ('nombre')"
   ]
  },
  {
   "cell_type": "code",
   "execution_count": 9,
   "id": "e4d8420b",
   "metadata": {},
   "outputs": [
    {
     "name": "stdout",
     "output_type": "stream",
     "text": [
      "Luciano\n"
     ]
    }
   ],
   "source": [
    "print(nombre)"
   ]
  },
  {
   "cell_type": "code",
   "execution_count": 10,
   "id": "aa9e13eb",
   "metadata": {},
   "outputs": [
    {
     "name": "stdout",
     "output_type": "stream",
     "text": [
      "Ingrese un valor : 1000\n"
     ]
    }
   ],
   "source": [
    "numero01 = input(\"Ingrese un valor : \")"
   ]
  },
  {
   "cell_type": "code",
   "execution_count": 11,
   "id": "fff8e0b7",
   "metadata": {},
   "outputs": [
    {
     "name": "stdout",
     "output_type": "stream",
     "text": [
      "Ingrese un valor : 500\n"
     ]
    }
   ],
   "source": [
    "numero02 = input(\"Ingrese un valor : \")"
   ]
  },
  {
   "cell_type": "code",
   "execution_count": 12,
   "id": "35b3771a",
   "metadata": {},
   "outputs": [
    {
     "data": {
      "text/plain": [
       "'1000500'"
      ]
     },
     "execution_count": 12,
     "metadata": {},
     "output_type": "execute_result"
    }
   ],
   "source": [
    "numero01 + numero02"
   ]
  },
  {
   "cell_type": "code",
   "execution_count": 13,
   "id": "ac2ac7cb",
   "metadata": {},
   "outputs": [
    {
     "data": {
      "text/plain": [
       "1000500"
      ]
     },
     "execution_count": 13,
     "metadata": {},
     "output_type": "execute_result"
    }
   ],
   "source": [
    "int (numero01 + numero02)"
   ]
  },
  {
   "cell_type": "code",
   "execution_count": 14,
   "id": "d7427b91",
   "metadata": {},
   "outputs": [
    {
     "data": {
      "text/plain": [
       "1500"
      ]
     },
     "execution_count": 14,
     "metadata": {},
     "output_type": "execute_result"
    }
   ],
   "source": [
    "int(numero01) + int(numero02)"
   ]
  },
  {
   "cell_type": "code",
   "execution_count": 15,
   "id": "5d0180c8",
   "metadata": {},
   "outputs": [
    {
     "data": {
      "text/plain": [
       "1000"
      ]
     },
     "execution_count": 15,
     "metadata": {},
     "output_type": "execute_result"
    }
   ],
   "source": [
    "int(numero01)"
   ]
  },
  {
   "cell_type": "code",
   "execution_count": 16,
   "id": "54d62da4",
   "metadata": {},
   "outputs": [
    {
     "name": "stdout",
     "output_type": "stream",
     "text": [
      "Ingrese un valor : 105\n"
     ]
    }
   ],
   "source": [
    "numero03 = input(\"Ingrese un valor : \")"
   ]
  },
  {
   "cell_type": "code",
   "execution_count": 17,
   "id": "7e1f7c34",
   "metadata": {},
   "outputs": [
    {
     "name": "stdout",
     "output_type": "stream",
     "text": [
      "Ingrese un valor : 350\n"
     ]
    }
   ],
   "source": [
    "numero04 = input(\"Ingrese un valor : \")"
   ]
  },
  {
   "cell_type": "code",
   "execution_count": 18,
   "id": "ec75145d",
   "metadata": {},
   "outputs": [
    {
     "name": "stdout",
     "output_type": "stream",
     "text": [
      "Ingrese un valor : 67\n"
     ]
    },
    {
     "ename": "TypeError",
     "evalue": "'numero02' is an invalid keyword argument for int()",
     "output_type": "error",
     "traceback": [
      "\u001b[1;31m---------------------------------------------------------------------------\u001b[0m",
      "\u001b[1;31mTypeError\u001b[0m                                 Traceback (most recent call last)",
      "\u001b[1;32m<ipython-input-18-a33e1551edf8>\u001b[0m in \u001b[0;36m<module>\u001b[1;34m\u001b[0m\n\u001b[1;32m----> 1\u001b[1;33m \u001b[0mvalor01\u001b[0m \u001b[1;33m=\u001b[0m \u001b[0mint\u001b[0m\u001b[1;33m(\u001b[0m\u001b[0mnumero02\u001b[0m \u001b[1;33m=\u001b[0m \u001b[0minput\u001b[0m\u001b[1;33m(\u001b[0m\u001b[1;34m\"Ingrese un valor : \"\u001b[0m\u001b[1;33m)\u001b[0m\u001b[1;33m)\u001b[0m\u001b[1;33m\u001b[0m\u001b[1;33m\u001b[0m\u001b[0m\n\u001b[0m",
      "\u001b[1;31mTypeError\u001b[0m: 'numero02' is an invalid keyword argument for int()"
     ]
    }
   ],
   "source": [
    "valor01 = int(numero02 = input(\"Ingrese un valor : \"))"
   ]
  },
  {
   "cell_type": "code",
   "execution_count": 22,
   "id": "2c5e2baf",
   "metadata": {},
   "outputs": [
    {
     "name": "stdout",
     "output_type": "stream",
     "text": [
      "Ingrese un valor : 77\n"
     ]
    }
   ],
   "source": [
    "numero10 = input(\"Ingrese un valor : \")"
   ]
  },
  {
   "cell_type": "code",
   "execution_count": 24,
   "id": "1b4f927c",
   "metadata": {},
   "outputs": [],
   "source": [
    "valor = int(numero10)"
   ]
  },
  {
   "cell_type": "code",
   "execution_count": 25,
   "id": "ac8d2d45",
   "metadata": {},
   "outputs": [
    {
     "name": "stdout",
     "output_type": "stream",
     "text": [
      "77\n"
     ]
    }
   ],
   "source": [
    "print(valor)"
   ]
  },
  {
   "cell_type": "code",
   "execution_count": null,
   "id": "ac8bf33b",
   "metadata": {},
   "outputs": [],
   "source": []
  }
 ],
 "metadata": {
  "kernelspec": {
   "display_name": "Python 3",
   "language": "python",
   "name": "python3"
  },
  "language_info": {
   "codemirror_mode": {
    "name": "ipython",
    "version": 3
   },
   "file_extension": ".py",
   "mimetype": "text/x-python",
   "name": "python",
   "nbconvert_exporter": "python",
   "pygments_lexer": "ipython3",
   "version": "3.8.7"
  }
 },
 "nbformat": 4,
 "nbformat_minor": 5
}
