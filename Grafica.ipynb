{
 "cells": [
  {
   "cell_type": "code",
   "execution_count": 1,
   "id": "otherwise-shadow",
   "metadata": {},
   "outputs": [
    {
     "name": "stdout",
     "output_type": "stream",
     "text": [
      "Hola\n"
     ]
    }
   ],
   "source": [
    "print ('Hola')\n"
   ]
  },
  {
   "cell_type": "markdown",
   "id": "sought-aaron",
   "metadata": {},
   "source": [
    "## Ejemplo para imprimir en pat"
   ]
  },
  {
   "cell_type": "code",
   "execution_count": 3,
   "id": "unsigned-russia",
   "metadata": {},
   "outputs": [
    {
     "data": {
      "text/plain": [
       "6"
      ]
     },
     "execution_count": 3,
     "metadata": {},
     "output_type": "execute_result"
    }
   ],
   "source": [
    "2+4"
   ]
  },
  {
   "cell_type": "code",
   "execution_count": 11,
   "id": "adopted-chassis",
   "metadata": {},
   "outputs": [
    {
     "data": {
      "text/plain": [
       "'HolaMundoMundo'"
      ]
     },
     "execution_count": 11,
     "metadata": {},
     "output_type": "execute_result"
    }
   ],
   "source": [
    "\"Hola\" + \"Mundo\"*2"
   ]
  },
  {
   "cell_type": "code",
   "execution_count": 4,
   "id": "weighted-liberia",
   "metadata": {},
   "outputs": [],
   "source": [
    "import pandas as pd\n"
   ]
  },
  {
   "cell_type": "code",
   "execution_count": 5,
   "id": "planned-annex",
   "metadata": {},
   "outputs": [],
   "source": [
    "datos = pd.read_excel('LAQUIACA-2019-JUNIO.xlsx')"
   ]
  },
  {
   "cell_type": "code",
   "execution_count": 6,
   "id": "synthetic-arnold",
   "metadata": {},
   "outputs": [],
   "source": [
    "#instalar librerias"
   ]
  },
  {
   "cell_type": "code",
   "execution_count": 7,
   "id": "binding-harvard",
   "metadata": {},
   "outputs": [
    {
     "name": "stdout",
     "output_type": "stream",
     "text": [
      "Requirement already satisfied: xlrd in /opt/tljh/user/lib/python3.7/site-packages (2.0.1)\n",
      "Note: you may need to restart the kernel to use updated packages.\n"
     ]
    }
   ],
   "source": [
    "%pip install xlrd\n"
   ]
  },
  {
   "cell_type": "code",
   "execution_count": 8,
   "id": "spiritual-exercise",
   "metadata": {},
   "outputs": [
    {
     "name": "stdout",
     "output_type": "stream",
     "text": [
      "       MESA  ORDEN           ESCUELA TIPO DE EJEMPLAR  MATRICULA APELLIDO  \\\n",
      "0      1620      1               EET           DNI-EA    8000677   PRIETO   \n",
      "1      1620      2               EET              DNI   28314207    ABALO   \n",
      "2      1620      3               EET           DNI-EA   33844704    ABALO   \n",
      "3      1620      4               EET           DNI-EA    8012954    ABALO   \n",
      "4      1620      5               EET           DNI-EB   28727558    ABALO   \n",
      "...     ...    ...               ...              ...        ...      ...   \n",
      "14299  1662    328  ESCUELA FRONTERA           DNI-EA   41401783   ZUTARA   \n",
      "14300  1662    329  ESCUELA FRONTERA           DNI-EA   39401859   ZUTARA   \n",
      "14301  1662    330  ESCUELA FRONTERA           DNI-ED   40765421   ZUTARA   \n",
      "14302  1662    331  ESCUELA FRONTERA           DNI-EC   12231832   ZUTARA   \n",
      "14303  1662    332  ESCUELA FRONTERA           DNI-EC   21319985   ZUTARA   \n",
      "\n",
      "                NOMBRE  CLASE GENERO  \\\n",
      "0          RAUL MANUEL   1948      M   \n",
      "1         BELEN ZULEMA   1980      F   \n",
      "2      BETSABE AMERICA   1988      F   \n",
      "3         LUIS ALBERTO   1950      M   \n",
      "4         LUIS ENRIQUE   1982      M   \n",
      "...                ...    ...    ...   \n",
      "14299    CELESTE NOEMI   1998      F   \n",
      "14300   CRISTIAN ARIEL   1996      M   \n",
      "14301   DANTE SALVADOR   1997      M   \n",
      "14302          DOROTEA   1956      F   \n",
      "14303          HILARIO   1972      M   \n",
      "\n",
      "                                      DOMICILIO    SECCION           CIRCUITO  \\\n",
      "0                              AV. LAMADRID 344  15 - YAVI  118   - LA QUIACA   \n",
      "1                              BELGRANO 797 S/N  15 - YAVI  118   - LA QUIACA   \n",
      "2                                  BELGRANO 797  15 - YAVI  118   - LA QUIACA   \n",
      "3                                  BELGRANO 797  15 - YAVI  118   - LA QUIACA   \n",
      "4      AV. MARIA MAIDANA ESQ. PJE. LIBERTAD S/N  15 - YAVI  118   - LA QUIACA   \n",
      "...                                         ...        ...                ...   \n",
      "14299             SAN CAYETANO-PAT.ARGENTIN 287  15 - YAVI  118   - LA QUIACA   \n",
      "14300                            ARGENTINAS 287  15 - YAVI  118   - LA QUIACA   \n",
      "14301                   MINEROS DEL AGUILAR 561  15 - YAVI  118   - LA QUIACA   \n",
      "14302                 TAMBORCITO DE TACUARI 616  15 - YAVI  118   - LA QUIACA   \n",
      "14303               S.CAYETANO-P.ARGENTINAS 287  15 - YAVI  118   - LA QUIACA   \n",
      "\n",
      "       MESA.1  ORDEN_MESA         ESCUELA.1  TX_SECC_NUMERO  TX_CIRC_NUMERO  \n",
      "0        1620           1               EET              15             118  \n",
      "1        1620           2               EET              15             118  \n",
      "2        1620           3               EET              15             118  \n",
      "3        1620           4               EET              15             118  \n",
      "4        1620           5               EET              15             118  \n",
      "...       ...         ...               ...             ...             ...  \n",
      "14299    1662         328  ESCUELA FRONTERA              15             118  \n",
      "14300    1662         329  ESCUELA FRONTERA              15             118  \n",
      "14301    1662         330  ESCUELA FRONTERA              15             118  \n",
      "14302    1662         331  ESCUELA FRONTERA              15             118  \n",
      "14303    1662         332  ESCUELA FRONTERA              15             118  \n",
      "\n",
      "[14304 rows x 17 columns]\n"
     ]
    }
   ],
   "source": [
    "print (datos)"
   ]
  },
  {
   "cell_type": "code",
   "execution_count": 9,
   "id": "burning-analyst",
   "metadata": {},
   "outputs": [],
   "source": [
    "import matplotlib.pyplot as plt"
   ]
  },
  {
   "cell_type": "code",
   "execution_count": 10,
   "id": "naked-creativity",
   "metadata": {},
   "outputs": [
    {
     "data": {
      "image/png": "[encoded data removed]",
      "text/plain": [
       "<Figure size 576x576 with 1 Axes>"
      ]
     },
     "metadata": {},
     "output_type": "display_data"
    }
   ],
   "source": [
    "## GRAFICA MODO TORTA o PIE...\n",
    "plot_torta = datos['ESCUELA'].value_counts().plot(kind='pie', autopct='%.2f', figsize=(8, 8),\n",
    "                                            title='PORCENTAJE de VOTANTES por ESCUELAS')\n",
    "plt.show()"
   ]
  },
  {
   "cell_type": "code",
   "execution_count": 4,
   "id": "sized-crystal",
   "metadata": {},
   "outputs": [],
   "source": [
    "import numpy as np\n",
    "import matplotlib.pyplot as plt"
   ]
  },
  {
   "cell_type": "code",
   "execution_count": 5,
   "id": "together-access",
   "metadata": {},
   "outputs": [],
   "source": [
    "countries = ['Brazil', 'Madagascar', 'S. Korea', 'United States',\n",
    "             'Ethiopia', 'Pakistan', 'China', 'Belize']"
   ]
  },
  {
   "cell_type": "code",
   "execution_count": 6,
   "id": "broken-summit",
   "metadata": {},
   "outputs": [
    {
     "data": {
      "text/plain": [
       "['Brazil',\n",
       " 'Madagascar',\n",
       " 'S. Korea',\n",
       " 'United States',\n",
       " 'Ethiopia',\n",
       " 'Pakistan',\n",
       " 'China',\n",
       " 'Belize']"
      ]
     },
     "execution_count": 6,
     "metadata": {},
     "output_type": "execute_result"
    }
   ],
   "source": [
    "countries"
   ]
  },
  {
   "cell_type": "code",
   "execution_count": 7,
   "id": "sitting-completion",
   "metadata": {},
   "outputs": [],
   "source": [
    "# Birth rate per 1000 population\n",
    "birth_rate = [16.4, 33.5, 9.5, 14.2, 38.6, 30.2, 13.5, 23.0]\n",
    "# Life expectancy at birth, years\n",
    "life_expectancy = [73.7, 64.3, 81.3, 78.8, 63.0, 66.4, 75.2, 73.7]\n",
    "# Per person income fixed to US Dollars in 2000\n",
    "GDP = np.array([4800, 240, 16700, 37700, 230, 670, 2640, 3490])"
   ]
  },
  {
   "cell_type": "code",
   "execution_count": 8,
   "id": "regular-isolation",
   "metadata": {},
   "outputs": [
    {
     "data": {
      "text/plain": [
       "[16.4, 33.5, 9.5, 14.2, 38.6, 30.2, 13.5, 23.0]"
      ]
     },
     "execution_count": 8,
     "metadata": {},
     "output_type": "execute_result"
    }
   ],
   "source": [
    "birth_rate"
   ]
  },
  {
   "cell_type": "code",
   "execution_count": 14,
   "id": "legislative-nutrition",
   "metadata": {},
   "outputs": [
    {
     "data": {
      "image/png": "[encoded data removed]",
      "text/plain": [
       "<Figure size 432x288 with 1 Axes>"
      ]
     },
     "metadata": {
      "needs_background": "light"
     },
     "output_type": "display_data"
    }
   ],
   "source": [
    "fig = plt.figure()\n",
    "ax = fig.add_subplot(111)\n",
    "# Some random colours: \n",
    "colours = range(len(countries))\n",
    "ax.scatter(birth_rate, life_expectancy, c=colours, s=GDP/20)\n",
    "ax.set_xlim(5, 45)\n",
    "ax.set_ylim(60, 85)\n",
    "ax.set_xlabel('Birth rate per 1000 population')\n",
    "ax.set_ylabel('Life expectancy at birth (years)')\n",
    "\n",
    "for x, y, s, country in zip(birth_rate, life_expectancy, GDP, countries):\n",
    "    ax.text(x+offset, y, country, va='center')"
   ]
  },
  {
   "cell_type": "code",
   "execution_count": 15,
   "id": "cheap-knife",
   "metadata": {},
   "outputs": [
    {
     "data": {
      "text/plain": [
       "Text(0, 0.5, 'Life expectancy at birth (years)')"
      ]
     },
     "execution_count": 15,
     "metadata": {},
     "output_type": "execute_result"
    },
    {
     "data": {
      "image/png": "[encoded data removed]",
      "text/plain": [
       "<Figure size 432x288 with 1 Axes>"
      ]
     },
     "metadata": {
      "needs_background": "light"
     },
     "output_type": "display_data"
    }
   ],
   "source": [
    "fig = plt.figure()\n",
    "ax = fig.add_subplot(111)\n",
    "# Some random colours: \n",
    "colours = range(len(countries))\n",
    "ax.scatter(birth_rate, life_expectancy, c=colours, s=GDP/20)\n",
    "ax.set_xlim(5, 45)\n",
    "ax.set_ylim(60, 85)\n",
    "ax.set_xlabel('Birth rate per 1000 population')\n",
    "ax.set_ylabel('Life expectancy at birth (years)')"
   ]
  },
  {
   "cell_type": "markdown",
   "id": "geographic-shannon",
   "metadata": {},
   "source": [
    "# The largest heading\n",
    "## The second largest heading\n",
    "###### The smallest heading"
   ]
  },
  {
   "cell_type": "markdown",
   "id": "extraordinary-rental",
   "metadata": {},
   "source": [
    "Heading level 1\n",
    "==============="
   ]
  },
  {
   "cell_type": "code",
   "execution_count": null,
   "id": "organic-surfing",
   "metadata": {},
   "outputs": [],
   "source": [
    "# "
   ]
  }
 ],
 "metadata": {
  "kernelspec": {
   "display_name": "Python 3",
   "language": "python",
   "name": "python3"
  },
  "language_info": {
   "codemirror_mode": {
    "name": "ipython",
    "version": 3
   },
   "file_extension": ".py",
   "mimetype": "text/x-python",
   "name": "python",
   "nbconvert_exporter": "python",
   "pygments_lexer": "ipython3",
   "version": "3.7.3"
  }
 },
 "nbformat": 4,
 "nbformat_minor": 5
}
