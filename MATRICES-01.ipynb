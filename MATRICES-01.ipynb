{
 "cells": [
  {
   "cell_type": "markdown",
   "id": "db71b066",
   "metadata": {},
   "source": [
    "## Taller `Matrices`"
   ]
  },
  {
   "cell_type": "code",
   "execution_count": 1,
   "id": "5de99ec4",
   "metadata": {},
   "outputs": [
    {
     "name": "stderr",
     "output_type": "stream",
     "text": [
      "c:\\python387\\lib\\site-packages\\IPython\\lib\\latextools.py:126: MatplotlibDeprecationWarning: \n",
      "The to_png function was deprecated in Matplotlib 3.4 and will be removed two minor releases later. Use mathtext.math_to_image instead.\n",
      "  mt.to_png(f, s, fontsize=12, dpi=dpi, color=color)\n",
      "c:\\python387\\lib\\site-packages\\IPython\\lib\\latextools.py:126: MatplotlibDeprecationWarning: \n",
      "The to_rgba function was deprecated in Matplotlib 3.4 and will be removed two minor releases later. Use mathtext.math_to_image instead.\n",
      "  mt.to_png(f, s, fontsize=12, dpi=dpi, color=color)\n",
      "c:\\python387\\lib\\site-packages\\IPython\\lib\\latextools.py:126: MatplotlibDeprecationWarning: \n",
      "The to_mask function was deprecated in Matplotlib 3.4 and will be removed two minor releases later. Use mathtext.math_to_image instead.\n",
      "  mt.to_png(f, s, fontsize=12, dpi=dpi, color=color)\n",
      "c:\\python387\\lib\\site-packages\\IPython\\lib\\latextools.py:126: MatplotlibDeprecationWarning: \n",
      "The MathtextBackendBitmap class was deprecated in Matplotlib 3.4 and will be removed two minor releases later. Use mathtext.math_to_image instead.\n",
      "  mt.to_png(f, s, fontsize=12, dpi=dpi, color=color)\n"
     ]
    },
    {
     "data": {
      "text/latex": [
       "$\\displaystyle \\left[\\begin{matrix}\\alpha & \\beta\\\\\\beta & - \\alpha\\end{matrix}\\right]$"
      ],
      "text/plain": [
       "⎡α  β ⎤\n",
       "⎢     ⎥\n",
       "⎣β  -α⎦"
      ]
     },
     "execution_count": 1,
     "metadata": {},
     "output_type": "execute_result"
    }
   ],
   "source": [
    "import sympy as sy\n",
    "\n",
    "sy.init_printing()\n",
    "\n",
    "a, b = sy.symbols(\"alpha, beta\")\n",
    "\n",
    "A = sy.Matrix([[a, b],[b, -a]])\n",
    "\n",
    "A"
   ]
  },
  {
   "cell_type": "code",
   "execution_count": 2,
   "id": "fdf92a93",
   "metadata": {},
   "outputs": [
    {
     "data": {
      "image/png": "[encoded data removed]",
      "text/latex": [
       "$\\displaystyle \\left\\{ - \\sqrt{\\alpha^{2} + \\beta^{2}} : 1, \\  \\sqrt{\\alpha^{2} + \\beta^{2}} : 1\\right\\}$"
      ],
      "text/plain": [
       "⎧    _________        _________   ⎫\n",
       "⎨   ╱  2    2        ╱  2    2    ⎬\n",
       "⎩-╲╱  α  + β  : 1, ╲╱  α  + β  : 1⎭"
      ]
     },
     "execution_count": 2,
     "metadata": {},
     "output_type": "execute_result"
    }
   ],
   "source": [
    "A.eigenvals()"
   ]
  },
  {
   "cell_type": "code",
   "execution_count": 3,
   "id": "48b3df57",
   "metadata": {},
   "outputs": [
    {
     "data": {
      "text/latex": [
       "$\\displaystyle \\left[ \\left( - \\sqrt{\\alpha^{2} + \\beta^{2}}, \\  1, \\  \\left[ \\left[\\begin{matrix}\\frac{\\alpha}{\\beta} - \\frac{\\sqrt{\\alpha^{2} + \\beta^{2}}}{\\beta}\\\\1\\end{matrix}\\right]\\right]\\right), \\  \\left( \\sqrt{\\alpha^{2} + \\beta^{2}}, \\  1, \\  \\left[ \\left[\\begin{matrix}\\frac{\\alpha}{\\beta} + \\frac{\\sqrt{\\alpha^{2} + \\beta^{2}}}{\\beta}\\\\1\\end{matrix}\\right]\\right]\\right)\\right]$"
      ],
      "text/plain": [
       "⎡⎛                  ⎡⎡       _________⎤⎤⎞  ⎛                 ⎡⎡       ________\n",
       "⎢⎜    _________     ⎢⎢      ╱  2    2 ⎥⎥⎟  ⎜   _________     ⎢⎢      ╱  2    2\n",
       "⎢⎜   ╱  2    2      ⎢⎢α   ╲╱  α  + β  ⎥⎥⎟  ⎜  ╱  2    2      ⎢⎢α   ╲╱  α  + β \n",
       "⎢⎜-╲╱  α  + β  , 1, ⎢⎢─ - ────────────⎥⎥⎟, ⎜╲╱  α  + β  , 1, ⎢⎢─ + ───────────\n",
       "⎢⎜                  ⎢⎢β        β      ⎥⎥⎟  ⎜                 ⎢⎢β        β     \n",
       "⎢⎜                  ⎢⎢                ⎥⎥⎟  ⎜                 ⎢⎢               \n",
       "⎣⎝                  ⎣⎣       1        ⎦⎦⎠  ⎝                 ⎣⎣       1       \n",
       "\n",
       "_⎤⎤⎞⎤\n",
       " ⎥⎥⎟⎥\n",
       " ⎥⎥⎟⎥\n",
       "─⎥⎥⎟⎥\n",
       " ⎥⎥⎟⎥\n",
       " ⎥⎥⎟⎥\n",
       " ⎦⎦⎠⎦"
      ]
     },
     "execution_count": 3,
     "metadata": {},
     "output_type": "execute_result"
    }
   ],
   "source": [
    "A.eigenvects()"
   ]
  },
  {
   "cell_type": "code",
   "execution_count": null,
   "id": "8cf49e83",
   "metadata": {},
   "outputs": [],
   "source": []
  }
 ],
 "metadata": {
  "kernelspec": {
   "display_name": "Python 3",
   "language": "python",
   "name": "python3"
  },
  "language_info": {
   "codemirror_mode": {
    "name": "ipython",
    "version": 3
   },
   "file_extension": ".py",
   "mimetype": "text/x-python",
   "name": "python",
   "nbconvert_exporter": "python",
   "pygments_lexer": "ipython3",
   "version": "3.8.7"
  }
 },
 "nbformat": 4,
 "nbformat_minor": 5
}
