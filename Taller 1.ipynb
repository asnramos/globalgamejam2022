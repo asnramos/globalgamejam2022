{
 "cells": [
  {
   "cell_type": "markdown",
   "id": "fdc23882",
   "metadata": {},
   "source": [
    "Contenidos\n",
    "* Taller 0: \n",
    "    * Amigándose con el entorno de enseñanza.\n",
    "    * Tipos de Datos: enteros, flotantes, textos.\n",
    "    * Conociendo datos de nuestra a vida real y cómo trabajarlos.\n",
    "  \n",
    "* Taller 1: \n",
    "  * Función: definición, límite, gráfica.\n",
    "  * Potenciar a través del entorno la interacción con las gráficas y valores de las funciones.\n",
    "  \n",
    "* Taller 2: \n",
    "  * Polinomio: definición y la interacción con datos reales.\n",
    "  * visualización de polinomios.\n",
    " \n",
    "* Taller 3: \n",
    "  * Trigonometría: gráfica de funciones trigonométricas.\n",
    "  * La representación de formas geómetricas en la naturaleza.\n",
    "  \n",
    "* Taller 4:\n",
    "  * Conjunto, diagramas de Venn\n",
    "  * Visualización dinámica de interesección de conjuntos, pertenencia, inclusión.\n",
    "\n",
    "Horario:\n",
    "* Sofia: Jueves 17.30 a 19.30 hs\n",
    "* Ariel: Martes 17.30 a 19.30 hs\n"
   ]
  },
  {
   "cell_type": "markdown",
   "id": "egyptian-inclusion",
   "metadata": {
    "slideshow": {
     "slide_type": "slide"
    }
   },
   "source": [
    "# Taller 1: \n",
    "## Contenidos\n",
    "  * Función: límite, gráfica\n",
    "  * Numpy, array 1d, 2d, 3d. Plotly\n",
    "  \n",
    "## Agenda\n",
    "* 50' conceptos teóricos\n",
    "* 10' descanso\n",
    "* 15' ejercicios con consultas\n",
    "* 15' resumeny y próximos contenidos"
   ]
  },
  {
   "cell_type": "markdown",
   "id": "personal-facial",
   "metadata": {
    "slideshow": {
     "slide_type": "slide"
    }
   },
   "source": [
    "### Objetivos:\n",
    "   * Analizar e intepretar funciones dinámicamente\n",
    "   * Comprender conceptos matemáticos a partir gráficas interactivas"
   ]
  },
  {
   "cell_type": "markdown",
   "id": "prompt-queue",
   "metadata": {
    "slideshow": {
     "slide_type": "slide"
    }
   },
   "source": [
    "* ¿Qué es un función?\n",
    "* ¿Qué nos dicen las funciones?\n",
    "* ¿Dónde las encontramos?\n",
    "* ¿Cómo las usamos?\n"
   ]
  },
  {
   "cell_type": "markdown",
   "id": "3182d839",
   "metadata": {
    "slideshow": {
     "slide_type": "subslide"
    }
   },
   "source": [
    "* En análisis de rendimiento de [deportistas](https://upload.wikimedia.org/wikipedia/commons/6/6b/Usain_Bolt_100_m_heats_Moscow_2013.jpg)\n",
    "<img src=\"img/deporte.jpg\" alt=\"Deporte\" style=\"width: 200px;\"/>\n",
    "\n",
    "***\n",
    "\n",
    "* Viajando al [espacio](https://es.wikipedia.org/wiki/Espacio_exterior#/media/Archivo:Bruce_McCandless_II_during_EVA_in_1984.jpg)\n",
    "<img src=\"img/space.jpg\" alt=\"Espacio\" style=\"width: 200px;\"/>\n",
    "\n"
   ]
  },
  {
   "cell_type": "markdown",
   "id": "5c7c529f",
   "metadata": {
    "slideshow": {
     "slide_type": "subslide"
    }
   },
   "source": [
    "\n",
    "* En el estudio del crecimiento de los [árboles](https://openclipart.org/detail/217507/tree-fractal)\n",
    "<img src=\"img/arbol.png\" alt=\"arboles\" style=\"width: 200px;\"/>\n",
    "***\n",
    "* Incidencia del aumento de la [temperatura](https://es.wikipedia.org/wiki/Cambio_clim%C3%A1tico#/media/Archivo:SurfaceTemperature.jpg) en el ecosistema\n",
    "<img src=\"img/temperatura.jpg\" alt=\"Temperatura\" style=\"width: 200px;\"/>"
   ]
  },
  {
   "cell_type": "markdown",
   "id": "b07655d1",
   "metadata": {
    "slideshow": {
     "slide_type": "slide"
    }
   },
   "source": [
    "Veamos algunos ejemplos de la vida real y cómo se transforman en funciones"
   ]
  },
  {
   "cell_type": "markdown",
   "id": "ec430a98",
   "metadata": {
    "slideshow": {
     "slide_type": "fragment"
    }
   },
   "source": [
    "¿Cómo se relacionan:\n",
    "   * una persona con su dni?\n",
    "   * la temperatura a lo largo del día?\n",
    "   * cada país con la población?"
   ]
  },
  {
   "cell_type": "markdown",
   "id": "5eb46d8b",
   "metadata": {
    "slideshow": {
     "slide_type": "subslide"
    }
   },
   "source": [
    "* ¿Cuántos conjuntos de datos hay en cada ejemplo?\n",
    "* ¿Qué valores contiene cada conjunto?\n",
    "* ¿Cada elemento de un conjunto se relaciona con un único elmento del otro conjunto?"
   ]
  },
  {
   "cell_type": "markdown",
   "id": "0f986d1c",
   "metadata": {
    "slideshow": {
     "slide_type": "slide"
    }
   },
   "source": [
    "Una persona con su dni\n",
    "* dos conjuntos de datos\n",
    "    * A: nombre de la persona\n",
    "    * B: dni de la persona\n",
    "* Cada elemento de **A** se relaciona con un único elemento de **B**\n",
    "\n"
   ]
  },
  {
   "cell_type": "markdown",
   "id": "e6f784ff",
   "metadata": {
    "slideshow": {
     "slide_type": "fragment"
    }
   },
   "source": [
    "* Y la temperatura?"
   ]
  },
  {
   "cell_type": "markdown",
   "id": "db9d77cf",
   "metadata": {
    "slideshow": {
     "slide_type": "subslide"
    }
   },
   "source": [
    "* ¿Qué tipos de funciones vemos en cada caso?\n",
    "* Dominio - Codominio"
   ]
  },
  {
   "cell_type": "markdown",
   "id": "fb86afd0",
   "metadata": {
    "slideshow": {
     "slide_type": "slide"
    }
   },
   "source": [
    "# Hacia un calentamiento global de 1,5 °C más\n",
    "\n",
    "<div class=\"alert alert-info\">\n",
    "Actualmente el cambio climático es una preocupación mundial, aún así no se evidencia un cambio rotundo en los factores que lo influyen.</div>\n",
    " \n"
   ]
  },
  {
   "cell_type": "markdown",
   "id": "1fe93e81",
   "metadata": {
    "slideshow": {
     "slide_type": "fragment"
    }
   },
   "source": [
    "<div class=\"alert alert-warning\">\"...se espera que la <b>temperatura global</b> alcance o supere los 1,5 °C o más de calentamiento en los próximos <b>20 años</b>.\" \n",
    "</div>\n",
    "\n",
    "[IPCC](https://www.ipcc.ch/languages-2/spanish/)\n"
   ]
  },
  {
   "cell_type": "markdown",
   "id": "1e1fe142",
   "metadata": {
    "slideshow": {
     "slide_type": "fragment"
    }
   },
   "source": [
    "<div class=\"alert alert-warning\">\"...Las economías <b>inclusivas y verdes</b>, la prosperidad y un aire más limpio, junto con una mejor salud, son posibles para todos, si respondemos a esta crisis con <b>solidaridad y valor</b>\"</div>"
   ]
  },
  {
   "cell_type": "markdown",
   "id": "fbb11b50",
   "metadata": {
    "slideshow": {
     "slide_type": "slide"
    }
   },
   "source": [
    "[¿Qué está pasando?](https://twitter.com/i/events/1425025474636525568?s=09)\n",
    "![](img/incendios.png)"
   ]
  },
  {
   "cell_type": "markdown",
   "id": "498ead28",
   "metadata": {
    "slideshow": {
     "slide_type": "slide"
    }
   },
   "source": [
    "Entendamos y veamos cómo analizar los datos para entender por nosotros mismos la información.\n",
    "\n",
    "Analicemos los cambios de temperatura de la Argentina a lo largo de los años.\n",
    "\n",
    "Tomemos los datos de [temperatura media](https://climateknowledgeportal.worldbank.org/download-data) en 1991.\n",
    "\n"
   ]
  },
  {
   "cell_type": "code",
   "execution_count": 4,
   "id": "bfcf1564",
   "metadata": {
    "slideshow": {
     "slide_type": "fragment"
    }
   },
   "outputs": [],
   "source": [
    "temp_1991 = [20.5,20.0,18.9,14.8,11.9,8.2,7.3,8.9,12.4,13.8,17.3,18.6]"
   ]
  },
  {
   "cell_type": "markdown",
   "id": "governing-counter",
   "metadata": {
    "slideshow": {
     "slide_type": "slide"
    }
   },
   "source": [
    "* ¿Qué tipo de datos es la variable **temp_1991**?\n",
    "* ¿Cómo calculo la longitud?\n",
    "* ¿Cómo acceso a los elementos?"
   ]
  },
  {
   "cell_type": "code",
   "execution_count": 5,
   "id": "0929a699",
   "metadata": {
    "slideshow": {
     "slide_type": "fragment"
    }
   },
   "outputs": [
    {
     "data": {
      "text/plain": [
       "list"
      ]
     },
     "execution_count": 5,
     "metadata": {},
     "output_type": "execute_result"
    }
   ],
   "source": [
    "type(temp_1991)"
   ]
  },
  {
   "cell_type": "code",
   "execution_count": 6,
   "id": "c9833992",
   "metadata": {
    "slideshow": {
     "slide_type": "fragment"
    }
   },
   "outputs": [
    {
     "data": {
      "text/plain": [
       "12"
      ]
     },
     "execution_count": 6,
     "metadata": {},
     "output_type": "execute_result"
    }
   ],
   "source": [
    "len(temp_1991)"
   ]
  },
  {
   "cell_type": "code",
   "execution_count": 7,
   "id": "fccfb745",
   "metadata": {
    "slideshow": {
     "slide_type": "fragment"
    }
   },
   "outputs": [
    {
     "data": {
      "text/plain": [
       "20.0"
      ]
     },
     "execution_count": 7,
     "metadata": {},
     "output_type": "execute_result"
    }
   ],
   "source": [
    "temp_1991[1]"
   ]
  },
  {
   "cell_type": "markdown",
   "id": "989c2f99",
   "metadata": {
    "slideshow": {
     "slide_type": "slide"
    }
   },
   "source": [
    "* ¿20.0 es primer elemento?\n",
    "* ¿Cómo acccedo al primero, al último?"
   ]
  },
  {
   "cell_type": "code",
   "execution_count": 8,
   "id": "3176e2de",
   "metadata": {
    "slideshow": {
     "slide_type": "fragment"
    }
   },
   "outputs": [
    {
     "name": "stdout",
     "output_type": "stream",
     "text": [
      "20.5\n"
     ]
    }
   ],
   "source": [
    "print(temp_1991[0])"
   ]
  },
  {
   "cell_type": "code",
   "execution_count": 9,
   "id": "d73311da",
   "metadata": {
    "slideshow": {
     "slide_type": "fragment"
    }
   },
   "outputs": [
    {
     "ename": "IndexError",
     "evalue": "list index out of range",
     "output_type": "error",
     "traceback": [
      "\u001b[0;31m---------------------------------------------------------------------------\u001b[0m",
      "\u001b[0;31mIndexError\u001b[0m                                Traceback (most recent call last)",
      "\u001b[0;32m<ipython-input-9-b2e810e911de>\u001b[0m in \u001b[0;36m<module>\u001b[0;34m\u001b[0m\n\u001b[0;32m----> 1\u001b[0;31m \u001b[0mprint\u001b[0m\u001b[0;34m(\u001b[0m\u001b[0mtemp_1991\u001b[0m\u001b[0;34m[\u001b[0m\u001b[0mlen\u001b[0m\u001b[0;34m(\u001b[0m\u001b[0mtemp_1991\u001b[0m\u001b[0;34m)\u001b[0m\u001b[0;34m]\u001b[0m\u001b[0;34m)\u001b[0m\u001b[0;34m\u001b[0m\u001b[0;34m\u001b[0m\u001b[0m\n\u001b[0m",
      "\u001b[0;31mIndexError\u001b[0m: list index out of range"
     ]
    }
   ],
   "source": [
    "print(temp_1991[len(temp_1991)])"
   ]
  },
  {
   "cell_type": "markdown",
   "id": "1687e233",
   "metadata": {
    "slideshow": {
     "slide_type": "slide"
    }
   },
   "source": [
    "¿Por qué nos da este error?"
   ]
  },
  {
   "cell_type": "markdown",
   "id": "fbb194b3",
   "metadata": {
    "slideshow": {
     "slide_type": "fragment"
    }
   },
   "source": [
    "* **len** nos indica la longitud de la lista: 12\n",
    "* Pero el índice del último elemento no es 12, ya que la indexación comienza en 0, por lo tanto para acceder al último elemento debemos indicar la longitud menos 1, **11**"
   ]
  },
  {
   "cell_type": "code",
   "execution_count": 10,
   "id": "5e60850e",
   "metadata": {
    "slideshow": {
     "slide_type": "fragment"
    }
   },
   "outputs": [
    {
     "name": "stdout",
     "output_type": "stream",
     "text": [
      "[20.5, 20.0, 18.9, 14.8, 11.9, 8.2, 7.3, 8.9, 12.4, 13.8, 17.3, 18.6]\n",
      "18.6\n"
     ]
    }
   ],
   "source": [
    "print(temp_1991)\n",
    "print(temp_1991[len(temp_1991)-1])"
   ]
  },
  {
   "cell_type": "markdown",
   "id": "09e91d17",
   "metadata": {
    "slideshow": {
     "slide_type": "slide"
    }
   },
   "source": [
    "Grafiquemos estos  datos en los ejes cartesianos"
   ]
  },
  {
   "cell_type": "code",
   "execution_count": 11,
   "id": "11a5849f",
   "metadata": {
    "slideshow": {
     "slide_type": "fragment"
    }
   },
   "outputs": [],
   "source": [
    "from matplotlib import pyplot as dibujo"
   ]
  },
  {
   "cell_type": "code",
   "execution_count": 12,
   "id": "437d7cc7",
   "metadata": {
    "slideshow": {
     "slide_type": "fragment"
    }
   },
   "outputs": [
    {
     "data": {
      "image/png": "[encoded data removed]",
      "text/plain": [
       "<Figure size 432x288 with 1 Axes>"
      ]
     },
     "metadata": {
      "needs_background": "light"
     },
     "output_type": "display_data"
    }
   ],
   "source": [
    "dibujo.plot(temp_1991)\n",
    "dibujo.show()"
   ]
  },
  {
   "cell_type": "markdown",
   "id": "6ee584da",
   "metadata": {
    "slideshow": {
     "slide_type": "slide"
    }
   },
   "source": [
    "**Matplolib** es una librería de Python que nos permite graficar e interactuar con el gráfico, ver información de los datos.\n",
    "\n",
    "Sitio: https://matplotlib.org/"
   ]
  },
  {
   "cell_type": "markdown",
   "id": "451d774b",
   "metadata": {
    "slideshow": {
     "slide_type": "slide"
    }
   },
   "source": [
    "Agregemos etiquetas a nuestro gráfico\n"
   ]
  },
  {
   "cell_type": "code",
   "execution_count": 13,
   "id": "f1bff850",
   "metadata": {},
   "outputs": [],
   "source": [
    "meses = ['Enero',\n",
    " 'Febrero',\n",
    " 'Marzo',\n",
    " 'Abril',\n",
    " 'Mayo',\n",
    " 'Junio',\n",
    " 'Julio',\n",
    " 'Agosto',\n",
    " 'Septiembre',\n",
    " 'Octubre',\n",
    " 'Noviembre',\n",
    " 'Diciembre']"
   ]
  },
  {
   "cell_type": "code",
   "execution_count": 14,
   "id": "01ffce03",
   "metadata": {
    "slideshow": {
     "slide_type": "fragment"
    }
   },
   "outputs": [
    {
     "data": {
      "text/plain": [
       "12"
      ]
     },
     "execution_count": 14,
     "metadata": {},
     "output_type": "execute_result"
    }
   ],
   "source": [
    "len(meses)"
   ]
  },
  {
   "cell_type": "code",
   "execution_count": 23,
   "id": "3305f0af",
   "metadata": {
    "slideshow": {
     "slide_type": "fragment"
    }
   },
   "outputs": [
    {
     "data": {
      "image/png": "[encoded data removed]",
      "text/plain": [
       "<Figure size 432x288 with 1 Axes>"
      ]
     },
     "metadata": {
      "needs_background": "light"
     },
     "output_type": "display_data"
    }
   ],
   "source": [
    "\n",
    "dibujo.title(\"Temperaturas 1991\")\n",
    "dibujo.plot(meses, temp_1991)\n",
    "\n",
    "dibujo.xlabel(\"Mes\")\n",
    "dibujo.ylabel(\"Valor\")\n",
    "#dibujo.xticks(meses)\n",
    "dibujo.show()"
   ]
  },
  {
   "cell_type": "markdown",
   "id": "45d27363",
   "metadata": {},
   "source": [
    "```Python\n",
    "dibujo.xlabel(\"Mes\")\n",
    "```\n",
    "Indica la etiqueta para el eje **x** y...\n",
    "```Python\n",
    "dibujo.ylabel(\"Valor\")\n",
    "```\n",
    "Indica la etiqueta para el eje **y**"
   ]
  },
  {
   "cell_type": "markdown",
   "id": "4a662b25",
   "metadata": {},
   "source": [
    "* Si quisiéramos comparar las temperaturas de dos años: 1991 \n",
    "* Guardemos las temperaturas del año 2020 en una estructura..."
   ]
  },
  {
   "cell_type": "code",
   "execution_count": 17,
   "id": "913f158c",
   "metadata": {},
   "outputs": [],
   "source": [
    "temp_2020 = [21.5, 20.1, 20.0, 14.9,11.0,8.3,6.4,9.7,12.5,15.5,19.0,20.3]"
   ]
  },
  {
   "cell_type": "code",
   "execution_count": 18,
   "id": "fa649312",
   "metadata": {},
   "outputs": [
    {
     "data": {
      "image/png": "[encoded data removed]",
      "text/plain": [
       "<Figure size 432x288 with 1 Axes>"
      ]
     },
     "metadata": {
      "needs_background": "light"
     },
     "output_type": "display_data"
    }
   ],
   "source": [
    "dibujo.title(\"Temperaturas 2020\")\n",
    "dibujo.plot(temp_2020)\n",
    "\n",
    "dibujo.xlabel(\"Mes\")\n",
    "dibujo.ylabel(\"Valor\")\n",
    "\n",
    "dibujo.show()"
   ]
  },
  {
   "cell_type": "markdown",
   "id": "d6ef6f6e",
   "metadata": {
    "slideshow": {
     "slide_type": "fragment"
    }
   },
   "source": [
    "Y ahora las juntamos en un mismo gráfico"
   ]
  },
  {
   "cell_type": "code",
   "execution_count": 20,
   "id": "c8842233",
   "metadata": {
    "slideshow": {
     "slide_type": "slide"
    }
   },
   "outputs": [
    {
     "data": {
      "image/png": "[encoded data removed]",
      "text/plain": [
       "<Figure size 432x288 with 1 Axes>"
      ]
     },
     "metadata": {
      "needs_background": "light"
     },
     "output_type": "display_data"
    }
   ],
   "source": [
    "dibujo.plot(meses, temp_1991, linewidth=3, label='1991')\n",
    "dibujo.plot(meses, temp_2020, linestyle='dashed' , linewidth=3, label='2020')\n",
    "\n",
    "dibujo.ylabel('Temperaturas')\n",
    "dibujo.title('Comparativa de 1991 y 2020')\n",
    "#dibujo.xticks(meses)\n",
    "dibujo.xlabel('Mes')\n",
    "dibujo.legend()\n",
    "\n",
    "dibujo.show()"
   ]
  },
  {
   "cell_type": "markdown",
   "id": "bf986a6a",
   "metadata": {
    "slideshow": {
     "slide_type": "fragment"
    }
   },
   "source": [
    "¿Qué configuraciones nuevas encontramos?"
   ]
  },
  {
   "cell_type": "markdown",
   "id": "b8baa221",
   "metadata": {
    "slideshow": {
     "slide_type": "fragment"
    }
   },
   "source": [
    "* dibujo.ylabel('Temperaturas')\n",
    "* dibujo.title('Comparativa de 1991 y 2020')\n",
    "* dibujo.xticks(x)\n",
    "* dibujo.xlabel('Mes')\n",
    "* dibujo.legend()\n",
    "* linestyle='dashed'"
   ]
  },
  {
   "cell_type": "markdown",
   "id": "4cecb305",
   "metadata": {
    "slideshow": {
     "slide_type": "slide"
    }
   },
   "source": [
    "¿Y si quiero poner otro tipo de [líneas](https://matplotlib.org/stable/gallery/lines_bars_and_markers/linestyles.html#sphx-glr-gallery-lines-bars-and-markers-linestyles-py)?"
   ]
  },
  {
   "cell_type": "code",
   "execution_count": null,
   "id": "ce2b6688",
   "metadata": {
    "slideshow": {
     "slide_type": "slide"
    }
   },
   "outputs": [],
   "source": [
    "Otro tipo de gráfico que podemos ahcer es de barra:"
   ]
  },
  {
   "cell_type": "code",
   "execution_count": 51,
   "id": "5ead236c",
   "metadata": {
    "slideshow": {
     "slide_type": "slide"
    }
   },
   "outputs": [],
   "source": [
    "import numpy as np"
   ]
  },
  {
   "cell_type": "code",
   "execution_count": 74,
   "id": "aa586507",
   "metadata": {
    "slideshow": {
     "slide_type": "subslide"
    }
   },
   "outputs": [
    {
     "data": {
      "image/png": "[encoded data removed]",
      "text/plain": [
       "<Figure size 432x288 with 1 Axes>"
      ]
     },
     "metadata": {
      "needs_background": "light"
     },
     "output_type": "display_data"
    }
   ],
   "source": [
    "ancho = 0.35\n",
    "x = np.arange(len(temp_1991))\n",
    "fig, ax = plt.subplots()\n",
    "rects1 = ax.bar(x - ancho/2, temp_1991, ancho, label='1991')\n",
    "rects2 = ax.bar(x + ancho/2, temp_2020, ancho, label='2020')\n",
    "\n",
    "ax.set_ylabel('Temperaturas')\n",
    "ax.set_title('Comparativa')\n",
    "ax.set_xticks(x)\n",
    "ax.set_xticklabels(x)\n",
    "ax.legend()\n",
    "\n",
    "\n",
    "\n",
    "fig.tight_layout()\n",
    "\n",
    "plt.show()"
   ]
  },
  {
   "cell_type": "markdown",
   "id": "eeb92cca",
   "metadata": {
    "slideshow": {
     "slide_type": "slide"
    }
   },
   "source": [
    "¿Cómo podemos calcular el valor mínimo y máximo con Python?"
   ]
  },
  {
   "cell_type": "code",
   "execution_count": 76,
   "id": "87b72367",
   "metadata": {
    "slideshow": {
     "slide_type": "fragment"
    }
   },
   "outputs": [
    {
     "data": {
      "text/plain": [
       "7.3"
      ]
     },
     "execution_count": 76,
     "metadata": {},
     "output_type": "execute_result"
    }
   ],
   "source": [
    "min(temp_1991)"
   ]
  },
  {
   "cell_type": "code",
   "execution_count": 75,
   "id": "fa25c0b5",
   "metadata": {
    "slideshow": {
     "slide_type": "fragment"
    }
   },
   "outputs": [
    {
     "data": {
      "text/plain": [
       "21.5"
      ]
     },
     "execution_count": 75,
     "metadata": {},
     "output_type": "execute_result"
    }
   ],
   "source": [
    "max(temp_2020)"
   ]
  },
  {
   "cell_type": "markdown",
   "id": "0af147c2",
   "metadata": {
    "slideshow": {
     "slide_type": "fragment"
    }
   },
   "source": [
    "Y la suma total de los valores?"
   ]
  },
  {
   "cell_type": "code",
   "execution_count": 78,
   "id": "2024007a",
   "metadata": {
    "slideshow": {
     "slide_type": "fragment"
    }
   },
   "outputs": [
    {
     "data": {
      "text/plain": [
       "172.60000000000002"
      ]
     },
     "execution_count": 78,
     "metadata": {},
     "output_type": "execute_result"
    }
   ],
   "source": [
    "sum(temp)"
   ]
  },
  {
   "cell_type": "markdown",
   "id": "b67c2433",
   "metadata": {
    "slideshow": {
     "slide_type": "slide"
    }
   },
   "source": [
    "¿Cómo podemos calcular el promedio de ambos años?"
   ]
  },
  {
   "cell_type": "markdown",
   "id": "c5e11dbe",
   "metadata": {
    "slideshow": {
     "slide_type": "fragment"
    }
   },
   "source": [
    "¿Cuál es dominio y codominio en esta función?"
   ]
  },
  {
   "cell_type": "code",
   "execution_count": 80,
   "id": "5934d31f",
   "metadata": {
    "slideshow": {
     "slide_type": "fragment"
    }
   },
   "outputs": [
    {
     "name": "stdout",
     "output_type": "stream",
     "text": [
      "['Enero', 'Febrero', 'Marzo', 'Abril', 'Mayo', 'Junio', 'Julio', 'Agosto', 'Septiembre', 'Octubre', 'Noviembre', 'Diciembre']\n",
      "14.383333333333335\n"
     ]
    }
   ],
   "source": [
    "print(meses)\n",
    "print(sum(temp_1991)/12)"
   ]
  },
  {
   "cell_type": "markdown",
   "id": "778f79bd",
   "metadata": {
    "slideshow": {
     "slide_type": "slide"
    }
   },
   "source": [
    "Los valores de la temperatura se encuentran expresados en **Celsius**, si quisiéramos tener los mismos datos pero en **Farenheit**, cómo podríamos calcularlos a través de una función?"
   ]
  },
  {
   "cell_type": "markdown",
   "id": "7a7009b8",
   "metadata": {
    "slideshow": {
     "slide_type": "fragment"
    }
   },
   "source": [
    " Dado un valor de temperatura , *x*, la correspondiente temperatura en *F* se da:\n",
    " \n",
    " F(x) = x * 1.8000 + 32.00"
   ]
  },
  {
   "cell_type": "markdown",
   "id": "0cda36bb",
   "metadata": {},
   "source": [
    "Si x es igual 20.5, cuál es el valor de y?"
   ]
  },
  {
   "cell_type": "code",
   "execution_count": 34,
   "id": "dcc10f49",
   "metadata": {},
   "outputs": [],
   "source": [
    "y = 20.5 * 1.8000 + 32.00"
   ]
  },
  {
   "cell_type": "markdown",
   "id": "bc3eb689",
   "metadata": {
    "slideshow": {
     "slide_type": "fragment"
    }
   },
   "source": [
    "Definamos una función en Python que calcule para cada dato Celsius su correspondiente valor en Farenheit"
   ]
  },
  {
   "cell_type": "code",
   "execution_count": 35,
   "id": "634b8129",
   "metadata": {
    "slideshow": {
     "slide_type": "slide"
    }
   },
   "outputs": [],
   "source": [
    "def celsius_a_far(x):\n",
    "    return x * 1.8+32.00"
   ]
  },
  {
   "cell_type": "markdown",
   "id": "5d7184c7",
   "metadata": {
    "slideshow": {
     "slide_type": "fragment"
    }
   },
   "source": [
    "Ahora probemos con un valor de temperatura"
   ]
  },
  {
   "cell_type": "code",
   "execution_count": 36,
   "id": "4c6ab730",
   "metadata": {
    "slideshow": {
     "slide_type": "fragment"
    }
   },
   "outputs": [
    {
     "name": "stdout",
     "output_type": "stream",
     "text": [
      "50.900000000000006\n"
     ]
    }
   ],
   "source": [
    "print(celsius_a_far(10.5))"
   ]
  },
  {
   "cell_type": "markdown",
   "id": "31ff4b9f",
   "metadata": {
    "slideshow": {
     "slide_type": "slide"
    }
   },
   "source": [
    "## Funciones\n",
    "Una **función** en Python es un conjunto de instrucciones que permite resolver una acción determinada. \n",
    "* Tiene dos momentos\n",
    "    * la definición\n",
    "    * la invocación\n",
    "* Se utiliza la palabra clave `def` para definir\n",
    "* Se utiliza la palabra `return`para devolver un valor\n",
    "* Puede recibir o no parámetros\n",
    "\n",
    "Link de consulta:\n",
    "* [Python Cientificio](https://github.com/mgaitan/curso-python-cientifico)\n",
    "* [Introducción Jupyter](https://github.com/fiolj/intro-python-IB)"
   ]
  },
  {
   "cell_type": "markdown",
   "id": "790201dc",
   "metadata": {
    "slideshow": {
     "slide_type": "fragment"
    }
   },
   "source": [
    "En la **definición** de la función **celsius_a_far** podemos observar:\n",
    "```Python\n",
    "def celsius_a_far(x):\n",
    "    return x * 1.8+32.00\n",
    "``` \n",
    "* recibe un parámetro **x**\n",
    "* devuelve un valor que es el cálculo realizado **x * 1.8+32.00**"
   ]
  },
  {
   "cell_type": "markdown",
   "id": "7912308b",
   "metadata": {
    "slideshow": {
     "slide_type": "fragment"
    }
   },
   "source": [
    "La **invocamos** cuando la utilizamos como instrucción:\n",
    "```Python\n",
    "print(celsius_a_far(20.5))\n",
    "```\n",
    "* Le enviamos el parámetro **20.5**\n",
    "* El valor devuelto lo imprimimos por pantalla\n",
    "```Python\n",
    "print(celsius_a_far(20.5))\n",
    "```"
   ]
  },
  {
   "cell_type": "code",
   "execution_count": 118,
   "id": "72c0ff90",
   "metadata": {},
   "outputs": [],
   "source": [
    "def imprimo_nombre(nombre):\n",
    "    print(\"La función recibió el valor de: \", nombre)\n",
    "    nombre = \"Ada Lovelance\"\n",
    "    print(\"El nuevo valor de nombre es: \", nombre)"
   ]
  },
  {
   "cell_type": "code",
   "execution_count": 124,
   "id": "06d0cbfb",
   "metadata": {},
   "outputs": [
    {
     "name": "stdout",
     "output_type": "stream",
     "text": [
      "La función recibió el valor de:  María Göppert-Mayer\n",
      "El nuevo valor de nombre es:  Ada Lovelance\n",
      "La función recibió el valor de:  Dorothy Crowfoot\n",
      "El nuevo valor de nombre es:  Ada Lovelance\n"
     ]
    }
   ],
   "source": [
    "imprimo_nombre(\"María Göppert-Mayer\")\n",
    "nuevo_nombre = \"Dorothy Crowfoot\"\n",
    "imprimo_nombre(nuevo_nombre)"
   ]
  },
  {
   "cell_type": "markdown",
   "id": "0dcfb9e9",
   "metadata": {},
   "source": [
    "¿Quién es [María Göppert-Mayer](https://twitter.com/ValeArvejita/status/1427398834305576963)?"
   ]
  },
  {
   "cell_type": "markdown",
   "id": "8f54f25f",
   "metadata": {},
   "source": [
    "* ¿Cuántos parámetros recibe la función **imprimo_nombre**?\n",
    "* ¿Cuál es el valor que devuelve?"
   ]
  },
  {
   "cell_type": "markdown",
   "id": "09013bb1",
   "metadata": {},
   "source": [
    "# Hagamos un descanso"
   ]
  },
  {
   "cell_type": "markdown",
   "id": "c42de95a",
   "metadata": {
    "slideshow": {
     "slide_type": "slide"
    }
   },
   "source": [
    "### 1) Desafíos :\n",
    "* 1.1 Realizar un gráfico que compare las temperaturas de Argentina de **tres** años diferentes.\n",
    "* 1.2 Realizar una función que reciba un nombre y la función imprima un saludo: \"hola **nombre**\"\n",
    "* 1.3 Realizar una función que convierta metros en millas. \n",
    "* 1.4 Realizar una función que convierta pie a centímetros.\n",
    "* 1.5 Realizar una función que reciba una lista de valores y devuelva el promedio de los mismos.\n",
    "    \n"
   ]
  },
  {
   "cell_type": "markdown",
   "id": "4b6a43dc",
   "metadata": {
    "slideshow": {
     "slide_type": "fragment"
    }
   },
   "source": [
    "   * cuántos parámetros necesito recibir?\n",
    "   * cómo calculo la longitud de una lista?"
   ]
  },
  {
   "cell_type": "markdown",
   "id": "cb315114",
   "metadata": {
    "slideshow": {
     "slide_type": "slide"
    }
   },
   "source": [
    "Volvamos con la lista de valores de la temperatura.\n",
    "\n"
   ]
  },
  {
   "cell_type": "code",
   "execution_count": 81,
   "id": "82fbcead",
   "metadata": {
    "slideshow": {
     "slide_type": "fragment"
    }
   },
   "outputs": [
    {
     "data": {
      "text/plain": [
       "[20.5, 20.0, 18.9, 14.8, 11.9, 8.2, 7.3, 8.9, 12.4, 13.8, 17.3, 18.6]"
      ]
     },
     "execution_count": 81,
     "metadata": {},
     "output_type": "execute_result"
    }
   ],
   "source": [
    "temp_1991"
   ]
  },
  {
   "cell_type": "markdown",
   "id": "d4ded4d9",
   "metadata": {
    "slideshow": {
     "slide_type": "fragment"
    }
   },
   "source": [
    "Si queremos realizar la conversión de Celsius a Farenheit para todos los valores de la lista, debemos recorrerla e invocar a la función por cada valor. \n",
    "\n"
   ]
  },
  {
   "cell_type": "markdown",
   "id": "4d312379",
   "metadata": {
    "slideshow": {
     "slide_type": "fragment"
    }
   },
   "source": [
    "¿Qué tipo de estructura utilizamos para repetir una acción varias veces?\n"
   ]
  },
  {
   "cell_type": "code",
   "execution_count": 38,
   "id": "ffd0d44b",
   "metadata": {
    "slideshow": {
     "slide_type": "fragment"
    }
   },
   "outputs": [
    {
     "name": "stdout",
     "output_type": "stream",
     "text": [
      "20.5\n",
      "20.0\n",
      "18.9\n",
      "14.8\n",
      "11.9\n",
      "8.2\n",
      "7.3\n",
      "8.9\n",
      "12.4\n",
      "13.8\n",
      "17.3\n",
      "18.6\n"
     ]
    }
   ],
   "source": [
    "for elem in temp:\n",
    "    print(elem)"
   ]
  },
  {
   "cell_type": "markdown",
   "id": "3e06435e",
   "metadata": {
    "slideshow": {
     "slide_type": "slide"
    }
   },
   "source": [
    "Ahora para convertir todos los elementos"
   ]
  },
  {
   "cell_type": "code",
   "execution_count": 39,
   "id": "206113f5",
   "metadata": {
    "slideshow": {
     "slide_type": "fragment"
    }
   },
   "outputs": [
    {
     "name": "stdout",
     "output_type": "stream",
     "text": [
      "68.9\n",
      "68.0\n",
      "66.02\n",
      "58.64\n",
      "53.42\n",
      "46.76\n",
      "45.14\n",
      "48.019999999999996\n",
      "54.32\n",
      "56.84\n",
      "63.14\n",
      "65.48\n"
     ]
    }
   ],
   "source": [
    "for elem in temp:\n",
    "    print(celsius_a_far(elem))"
   ]
  },
  {
   "cell_type": "markdown",
   "id": "2e5657ef",
   "metadata": {
    "slideshow": {
     "slide_type": "slide"
    }
   },
   "source": [
    "Guardemos los datos en una lista nueva para tener los valores almacenados, recuerdan?:\n",
    "* cómo crear una lista nueva\n",
    "* agregar elementos en una lista\n"
   ]
  },
  {
   "cell_type": "code",
   "execution_count": 40,
   "id": "9222e5d1",
   "metadata": {
    "slideshow": {
     "slide_type": "slide"
    }
   },
   "outputs": [
    {
     "data": {
      "text/plain": [
       "[]"
      ]
     },
     "execution_count": 40,
     "metadata": {},
     "output_type": "execute_result"
    }
   ],
   "source": [
    "#creo una lista\n",
    "lista_nueva = []\n",
    "lista_nueva"
   ]
  },
  {
   "cell_type": "code",
   "execution_count": 41,
   "id": "07e22ade",
   "metadata": {
    "slideshow": {
     "slide_type": "fragment"
    }
   },
   "outputs": [],
   "source": [
    "#agrego elementos\n",
    "lista_nueva.append(8)"
   ]
  },
  {
   "cell_type": "code",
   "execution_count": 42,
   "id": "b48540a2",
   "metadata": {
    "slideshow": {
     "slide_type": "fragment"
    }
   },
   "outputs": [
    {
     "data": {
      "text/plain": [
       "[8]"
      ]
     },
     "execution_count": 42,
     "metadata": {},
     "output_type": "execute_result"
    }
   ],
   "source": [
    "lista_nueva"
   ]
  },
  {
   "cell_type": "code",
   "execution_count": 43,
   "id": "8a3d6c33",
   "metadata": {
    "slideshow": {
     "slide_type": "fragment"
    }
   },
   "outputs": [
    {
     "name": "stdout",
     "output_type": "stream",
     "text": [
      "[68.9, 68.0, 66.02, 58.64, 53.42, 46.76, 45.14, 48.019999999999996, 54.32, 56.84, 63.14, 65.48]\n"
     ]
    }
   ],
   "source": [
    "temp_f = []\n",
    "for elem in temp:\n",
    "    temp_f.append(celsius_a_far(elem))\n",
    "print(temp_f)"
   ]
  },
  {
   "cell_type": "markdown",
   "id": "85b7f17f",
   "metadata": {
    "slideshow": {
     "slide_type": "slide"
    }
   },
   "source": [
    "### 2) Desafíos :\n",
    "  * Graficar los datos de las temperaturas medias de Argentina de 1991 en Farenheit.\n",
    "  * Graficar los datos de las temperaturas medias de Argentina de 1992 en Celsius.\n",
    "  * Graficar los promedios de las temperaturas medias de Argentina de 5 años.\n",
    " "
   ]
  },
  {
   "cell_type": "markdown",
   "id": "stock-purple",
   "metadata": {
    "slideshow": {
     "slide_type": "slide"
    }
   },
   "source": [
    "### Desafío: \n",
    "    La sensación térmica, se calcula en función de la temperatura y velocidad del viento\n",
    "   * Podemos pensar la temperatura como variable T\n",
    "   * humedad como variable V\n",
    "   \n",
    "   \n",
    "Formamos una ecuación:"
   ]
  },
  {
   "cell_type": "markdown",
   "id": "3a928cef",
   "metadata": {
    "slideshow": {
     "slide_type": "fragment"
    }
   },
   "source": [
    "\n",
    "$$S_{T}=13.12+0.6215\\ T-11.37\\ V^{0.16}+0.3965\\ T\\ V^{0.16}$$"
   ]
  },
  {
   "cell_type": "markdown",
   "id": "7b081cae",
   "metadata": {
    "slideshow": {
     "slide_type": "fragment"
    }
   },
   "source": [
    "Y nuestra función en Python"
   ]
  },
  {
   "cell_type": "code",
   "execution_count": 86,
   "id": "5f8d4b7f",
   "metadata": {
    "slideshow": {
     "slide_type": "fragment"
    }
   },
   "outputs": [],
   "source": [
    "def sensa_termica(t,v):\n",
    "    sens_temp = 13.12+0.6215*t-11.37*(v**0.16)+0.3965*t*(v**0.16)\n",
    "    return sens_temp"
   ]
  },
  {
   "cell_type": "markdown",
   "id": "046ce066",
   "metadata": {
    "slideshow": {
     "slide_type": "slide"
    }
   },
   "source": [
    "Probemos con diferentes valores"
   ]
  },
  {
   "cell_type": "code",
   "execution_count": 87,
   "id": "4cd34a2a",
   "metadata": {
    "slideshow": {
     "slide_type": "fragment"
    }
   },
   "outputs": [
    {
     "data": {
      "text/plain": [
       "-3.314650193381196"
      ]
     },
     "execution_count": 87,
     "metadata": {},
     "output_type": "execute_result"
    }
   ],
   "source": [
    "#primer argumento: temperatura, segundo: velocidad viento\n",
    "sensa_termica(0,10)"
   ]
  },
  {
   "cell_type": "code",
   "execution_count": null,
   "id": "9e5509a6",
   "metadata": {},
   "outputs": [],
   "source": []
  },
  {
   "cell_type": "markdown",
   "id": "selected-circular",
   "metadata": {
    "slideshow": {
     "slide_type": "slide"
    }
   },
   "source": [
    "F: https://es.wikipedia.org/wiki/Temperatura_de_sensaci%C3%B3n\n",
    "\n",
    "Concepto de intervalo:\n",
    "* PELIGROSO\n",
    "* MUY PELIGROSO\n",
    "* EXTREMADAMENTE PELIGROSO\n",
    "\n"
   ]
  },
  {
   "cell_type": "markdown",
   "id": "e3a838cd",
   "metadata": {
    "slideshow": {
     "slide_type": "slide"
    }
   },
   "source": [
    "Pensemos ahora en funciones **cuadráticas** definidas del tipo:\n",
    "* f(x) = x**2\n",
    "* los valores de **y** van a estar definidos en función de x\n",
    "* ¿Qué forma tiene la gráfica de este tipo de funciones?"
   ]
  },
  {
   "cell_type": "code",
   "execution_count": 9,
   "id": "ac9a6c6c",
   "metadata": {},
   "outputs": [],
   "source": [
    "import numpy as np"
   ]
  },
  {
   "cell_type": "code",
   "execution_count": 93,
   "id": "2fb4fc94",
   "metadata": {
    "slideshow": {
     "slide_type": "slide"
    }
   },
   "outputs": [
    {
     "data": {
      "image/png": "[encoded data removed]",
      "text/plain": [
       "<Figure size 432x288 with 1 Axes>"
      ]
     },
     "metadata": {
      "needs_background": "light"
     },
     "output_type": "display_data"
    }
   ],
   "source": [
    "x = np.linspace(-2, 2, 10)\n",
    "y = x**2\n",
    "\n",
    "\n",
    "dibujo.plot(x,y)\n",
    "dibujo.show()"
   ]
  },
  {
   "cell_type": "markdown",
   "id": "68d7ed6f",
   "metadata": {
    "slideshow": {
     "slide_type": "slide"
    }
   },
   "source": [
    "* ¿Cuál es el rango en que está definido el dominio?\n",
    "* ¿Cuántos puntos se grafican?\n",
    "* ¿Qué pasa si variamos la cantidad de puntos a dibujar?\n"
   ]
  },
  {
   "cell_type": "code",
   "execution_count": 100,
   "id": "aeb36fcc",
   "metadata": {},
   "outputs": [],
   "source": [
    "from IPython.html.widgets import interact, interactive, fixed\n",
    "from IPython.html import widgets\n"
   ]
  },
  {
   "cell_type": "code",
   "execution_count": 108,
   "id": "38917c2e",
   "metadata": {},
   "outputs": [
    {
     "data": {
      "application/vnd.jupyter.widget-view+json": {
       "model_id": "8dd3a80d6bda46d98addbec17f12481f",
       "version_major": 2,
       "version_minor": 0
      },
      "text/plain": [
       "interactive(children=(IntSlider(value=5, description='n', max=10), Output()), _dom_classes=('widget-interact',…"
      ]
     },
     "metadata": {},
     "output_type": "display_data"
    }
   ],
   "source": [
    "%matplotlib inline\n",
    "import numpy as np\n",
    "import matplotlib.pyplot as plt\n",
    "from scipy.special import jn\n",
    "x = np.linspace(0,5)\n",
    "\n",
    "\n",
    "@interact(n=(0, 10))\n",
    "def p(n):\n",
    "    f, ax = plt.subplots()\n",
    "    ax.plot(x, jn(x,n))\n",
    "    plt.show()"
   ]
  },
  {
   "cell_type": "code",
   "execution_count": 117,
   "id": "fa0b3fca",
   "metadata": {},
   "outputs": [
    {
     "data": {
      "application/vnd.jupyter.widget-view+json": {
       "model_id": "621bb7d2dcc84f759b9662ebd72c5c5b",
       "version_major": 2,
       "version_minor": 0
      },
      "text/plain": [
       "interactive(children=(IntSlider(value=50, description='n'), Output()), _dom_classes=('widget-interact',))"
      ]
     },
     "metadata": {},
     "output_type": "display_data"
    }
   ],
   "source": [
    "\n",
    "x = np.linspace(0, 5)\n",
    "\n",
    "\n",
    "@interact(n=(0, 100))\n",
    "def p(n):\n",
    "    f, ax = dibujo.subplots()\n",
    "    ax.plot(n, n**2)\n",
    "    dibujo.show()\n",
    "\n",
    "\n",
    "\n",
    "\n"
   ]
  },
  {
   "cell_type": "markdown",
   "id": "13d010c1",
   "metadata": {
    "slideshow": {
     "slide_type": "slide"
    }
   },
   "source": [
    "La función cuadrática es una curva, que se forma con una sucesión de rectas, que al aumentar la cantidad de puntos forman una **parábola**\n",
    "* El eje **y** coincide con el **eje de esta curva**\n",
    "* el punto más bajo es **(0,0)** denominado vértice de la parábola \n",
    "* se dice que la parábola **abre hacia arriba**\n",
    "\n",
    "¿Cómo sería la función para que la parábola **abra hacia abajo**?"
   ]
  },
  {
   "cell_type": "markdown",
   "id": "9b9c18ec",
   "metadata": {},
   "source": [
    "¿Y en la música encontramos matemática?"
   ]
  },
  {
   "cell_type": "code",
   "execution_count": 99,
   "id": "ed0a11e7",
   "metadata": {},
   "outputs": [
    {
     "data": {
      "text/html": [
       "\n",
       "                <audio  controls=\"controls\" >\n",
       "                    <source src=\"data:audio/wav;base64,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\" type=\"audio/wav\" />\n",
       "                    Your browser does not support the audio element.\n",
       "                </audio>\n",
       "              "
      ],
      "text/plain": [
       "<IPython.lib.display.Audio object>"
      ]
     },
     "execution_count": 99,
     "metadata": {},
     "output_type": "execute_result"
    }
   ],
   "source": [
    "from IPython.display import Audio\n",
    "import numpy as np\n",
    "max_time = 3\n",
    "f1 = 220.0\n",
    "f2 = 224.0\n",
    "rate = 6400\n",
    "L = 5\n",
    "times = np.linspace(0,L,rate*L)\n",
    "signal = np.sin(2*np.pi*f1*times) + np.sin(2*np.pi*f2*times)\n",
    "\n",
    "Audio(data=signal, rate=rate)"
   ]
  },
  {
   "cell_type": "code",
   "execution_count": 92,
   "id": "463c8221",
   "metadata": {
    "slideshow": {
     "slide_type": "slide"
    }
   },
   "outputs": [
    {
     "data": {
      "image/png": "[encoded data removed]",
      "text/plain": [
       "<Figure size 432x288 with 1 Axes>"
      ]
     },
     "metadata": {
      "needs_background": "light"
     },
     "output_type": "display_data"
    }
   ],
   "source": [
    "x = np.linspace(-2, 2, 40)\n",
    "y = -x**2\n",
    "\n",
    "\n",
    "dibujo.plot(x,y)\n",
    "dibujo.show()"
   ]
  },
  {
   "cell_type": "markdown",
   "id": "fd5901de",
   "metadata": {
    "slideshow": {
     "slide_type": "slide"
    }
   },
   "source": [
    "Las ballenas azules recién nacidas miden aproximandamente 7.3 m de largo y pesan 3 toneladas(ton). a los 7 meses, cuando se destetan, las ballenas jóvenes tienen una sorprenden longitud de 16.15 m y un peso de 23 ton. Sea **L** la longitud(en pies) y **W** el peso (en toneladas) de una ballena de *t* meses de edad:\n",
    "* Suponiendo que *L* y *t* están relacionados linealmente ¿cuál es el incremento diario en la longitud?( Suponga que 1 mes = 30 días)\n",
    "\n"
   ]
  },
  {
   "cell_type": "markdown",
   "id": "8ec85500",
   "metadata": {
    "slideshow": {
     "slide_type": "fragment"
    }
   },
   "source": [
    "Con los datos indicados podes armar nuestra función como:\n",
    "$$ L={8.8}/{7}*t+7.3$$\n",
    "y en Python:"
   ]
  },
  {
   "cell_type": "code",
   "execution_count": 16,
   "id": "4cbde1a7",
   "metadata": {
    "slideshow": {
     "slide_type": "slide"
    }
   },
   "outputs": [
    {
     "name": "stdout",
     "output_type": "stream",
     "text": [
      "El incremento diario de una ballena azul es 4.190476190476191 centimetros\n"
     ]
    }
   ],
   "source": [
    "def longitud_en_meses(m):\n",
    "    incremento = (8.8/7)*m + 7.3\n",
    "    return incremento\n",
    "enc_diario = (longitud_en_meses(1)-7.3)/30\n",
    "print(f'El incremento diario de una ballena azul es {enc_diario*100} centimetros')"
   ]
  },
  {
   "cell_type": "markdown",
   "id": "4f241eb5",
   "metadata": {
    "slideshow": {
     "slide_type": "fragment"
    }
   },
   "source": [
    "Grafiquemos la longitud de las ballenas teniendo como promedio de vida 90 años."
   ]
  },
  {
   "cell_type": "code",
   "execution_count": 17,
   "id": "2af20744",
   "metadata": {
    "slideshow": {
     "slide_type": "slide"
    }
   },
   "outputs": [
    {
     "data": {
      "application/vnd.plotly.v1+json": {
       "config": {
        "plotlyServerURL": "https://plot.ly"
       },
       "data": [
        {
         "hovertemplate": "años=%{x}<br>longitud=%{y}<extra></extra>",
         "legendgroup": "",
         "line": {
          "color": "#636efa",
          "dash": "solid"
         },
         "mode": "lines",
         "name": "",
         "orientation": "v",
         "showlegend": false,
         "type": "scatter",
         "x": [
          0,
          1.0112359550561798,
          2.0224719101123596,
          3.033707865168539,
          4.044943820224719,
          5.056179775280899,
          6.067415730337078,
          7.078651685393258,
          8.089887640449438,
          9.101123595505618,
          10.112359550561798,
          11.123595505617978,
          12.134831460674157,
          13.146067415730338,
          14.157303370786517,
          15.168539325842698,
          16.179775280898877,
          17.191011235955056,
          18.202247191011235,
          19.213483146067418,
          20.224719101123597,
          21.235955056179776,
          22.247191011235955,
          23.258426966292134,
          24.269662921348313,
          25.280898876404496,
          26.292134831460675,
          27.303370786516854,
          28.314606741573034,
          29.325842696629213,
          30.337078651685395,
          31.348314606741575,
          32.359550561797754,
          33.37078651685393,
          34.38202247191011,
          35.39325842696629,
          36.40449438202247,
          37.41573033707865,
          38.426966292134836,
          39.438202247191015,
          40.449438202247194,
          41.46067415730337,
          42.47191011235955,
          43.48314606741573,
          44.49438202247191,
          45.50561797752809,
          46.51685393258427,
          47.52808988764045,
          48.53932584269663,
          49.55056179775281,
          50.56179775280899,
          51.57303370786517,
          52.58426966292135,
          53.59550561797753,
          54.60674157303371,
          55.61797752808989,
          56.62921348314607,
          57.640449438202246,
          58.651685393258425,
          59.66292134831461,
          60.67415730337079,
          61.68539325842697,
          62.69662921348315,
          63.70786516853933,
          64.71910112359551,
          65.73033707865169,
          66.74157303370787,
          67.75280898876404,
          68.76404494382022,
          69.7752808988764,
          70.78651685393258,
          71.79775280898876,
          72.80898876404494,
          73.82022471910112,
          74.8314606741573,
          75.84269662921349,
          76.85393258426967,
          77.86516853932585,
          78.87640449438203,
          79.88764044943821,
          80.89887640449439,
          81.91011235955057,
          82.92134831460675,
          83.93258426966293,
          84.9438202247191,
          85.95505617977528,
          86.96629213483146,
          87.97752808988764,
          88.98876404494382,
          90
         ],
         "xaxis": "x",
         "y": [
          7.3,
          8.571268057784913,
          9.842536115569825,
          11.113804173354735,
          12.385072231139649,
          13.65634028892456,
          14.927608346709471,
          16.198876404494385,
          17.470144462279297,
          18.741412520064205,
          20.01268057784912,
          21.28394863563403,
          22.55521669341894,
          23.826484751203857,
          25.09775280898877,
          26.36902086677368,
          27.640288924558593,
          28.9115569823435,
          30.182825040128414,
          31.45409309791333,
          32.72536115569824,
          33.99662921348315,
          35.26789727126806,
          36.53916532905297,
          37.810433386837886,
          39.0817014446228,
          40.35296950240771,
          41.62423756019262,
          42.895505617977534,
          44.16677367576244,
          45.43804173354736,
          46.70930979133227,
          47.98057784911718,
          49.25184590690209,
          50.523113964687,
          51.794382022471915,
          53.06565008025682,
          54.33691813804173,
          55.608186195826654,
          56.87945425361156,
          58.15072231139648,
          59.42199036918139,
          60.6932584269663,
          61.96452648475121,
          63.23579454253612,
          64.50706260032104,
          65.77833065810594,
          67.04959871589085,
          68.32086677367577,
          69.59213483146068,
          70.8634028892456,
          72.13467094703051,
          73.40593900481542,
          74.67720706260033,
          75.94847512038524,
          77.21974317817015,
          78.49101123595507,
          79.76227929373998,
          81.03354735152489,
          82.30481540930981,
          83.57608346709472,
          84.84735152487963,
          86.11861958266454,
          87.38988764044944,
          88.66115569823437,
          89.93242375601928,
          91.20369181380418,
          92.47495987158909,
          93.746227929374,
          95.01749598715892,
          96.28876404494383,
          97.56003210272874,
          98.83130016051365,
          100.10256821829856,
          101.37383627608347,
          102.6451043338684,
          103.91637239165331,
          105.18764044943822,
          106.45890850722313,
          107.73017656500805,
          109.00144462279296,
          110.27271268057787,
          111.54398073836278,
          112.81524879614769,
          114.08651685393261,
          115.35778491171752,
          116.62905296950242,
          117.90032102728733,
          119.17158908507224,
          120.44285714285716
         ],
         "yaxis": "y"
        }
       ],
       "layout": {
        "legend": {
         "tracegroupgap": 0
        },
        "margin": {
         "t": 60
        },
        "template": {
         "data": {
          "bar": [
           {
            "error_x": {
             "color": "#2a3f5f"
            },
            "error_y": {
             "color": "#2a3f5f"
            },
            "marker": {
             "line": {
              "color": "#E5ECF6",
              "width": 0.5
             },
             "pattern": {
              "fillmode": "overlay",
              "size": 10,
              "solidity": 0.2
             }
            },
            "type": "bar"
           }
          ],
          "barpolar": [
           {
            "marker": {
             "line": {
              "color": "#E5ECF6",
              "width": 0.5
             },
             "pattern": {
              "fillmode": "overlay",
              "size": 10,
              "solidity": 0.2
             }
            },
            "type": "barpolar"
           }
          ],
          "carpet": [
           {
            "aaxis": {
             "endlinecolor": "#2a3f5f",
             "gridcolor": "white",
             "linecolor": "white",
             "minorgridcolor": "white",
             "startlinecolor": "#2a3f5f"
            },
            "baxis": {
             "endlinecolor": "#2a3f5f",
             "gridcolor": "white",
             "linecolor": "white",
             "minorgridcolor": "white",
             "startlinecolor": "#2a3f5f"
            },
            "type": "carpet"
           }
          ],
          "choropleth": [
           {
            "colorbar": {
             "outlinewidth": 0,
             "ticks": ""
            },
            "type": "choropleth"
           }
          ],
          "contour": [
           {
            "colorbar": {
             "outlinewidth": 0,
             "ticks": ""
            },
            "colorscale": [
             [
              0,
              "#0d0887"
             ],
             [
              0.1111111111111111,
              "#46039f"
             ],
             [
              0.2222222222222222,
              "#7201a8"
             ],
             [
              0.3333333333333333,
              "#9c179e"
             ],
             [
              0.4444444444444444,
              "#bd3786"
             ],
             [
              0.5555555555555556,
              "#d8576b"
             ],
             [
              0.6666666666666666,
              "#ed7953"
             ],
             [
              0.7777777777777778,
              "#fb9f3a"
             ],
             [
              0.8888888888888888,
              "#fdca26"
             ],
             [
              1,
              "#f0f921"
             ]
            ],
            "type": "contour"
           }
          ],
          "contourcarpet": [
           {
            "colorbar": {
             "outlinewidth": 0,
             "ticks": ""
            },
            "type": "contourcarpet"
           }
          ],
          "heatmap": [
           {
            "colorbar": {
             "outlinewidth": 0,
             "ticks": ""
            },
            "colorscale": [
             [
              0,
              "#0d0887"
             ],
             [
              0.1111111111111111,
              "#46039f"
             ],
             [
              0.2222222222222222,
              "#7201a8"
             ],
             [
              0.3333333333333333,
              "#9c179e"
             ],
             [
              0.4444444444444444,
              "#bd3786"
             ],
             [
              0.5555555555555556,
              "#d8576b"
             ],
             [
              0.6666666666666666,
              "#ed7953"
             ],
             [
              0.7777777777777778,
              "#fb9f3a"
             ],
             [
              0.8888888888888888,
              "#fdca26"
             ],
             [
              1,
              "#f0f921"
             ]
            ],
            "type": "heatmap"
           }
          ],
          "heatmapgl": [
           {
            "colorbar": {
             "outlinewidth": 0,
             "ticks": ""
            },
            "colorscale": [
             [
              0,
              "#0d0887"
             ],
             [
              0.1111111111111111,
              "#46039f"
             ],
             [
              0.2222222222222222,
              "#7201a8"
             ],
             [
              0.3333333333333333,
              "#9c179e"
             ],
             [
              0.4444444444444444,
              "#bd3786"
             ],
             [
              0.5555555555555556,
              "#d8576b"
             ],
             [
              0.6666666666666666,
              "#ed7953"
             ],
             [
              0.7777777777777778,
              "#fb9f3a"
             ],
             [
              0.8888888888888888,
              "#fdca26"
             ],
             [
              1,
              "#f0f921"
             ]
            ],
            "type": "heatmapgl"
           }
          ],
          "histogram": [
           {
            "marker": {
             "pattern": {
              "fillmode": "overlay",
              "size": 10,
              "solidity": 0.2
             }
            },
            "type": "histogram"
           }
          ],
          "histogram2d": [
           {
            "colorbar": {
             "outlinewidth": 0,
             "ticks": ""
            },
            "colorscale": [
             [
              0,
              "#0d0887"
             ],
             [
              0.1111111111111111,
              "#46039f"
             ],
             [
              0.2222222222222222,
              "#7201a8"
             ],
             [
              0.3333333333333333,
              "#9c179e"
             ],
             [
              0.4444444444444444,
              "#bd3786"
             ],
             [
              0.5555555555555556,
              "#d8576b"
             ],
             [
              0.6666666666666666,
              "#ed7953"
             ],
             [
              0.7777777777777778,
              "#fb9f3a"
             ],
             [
              0.8888888888888888,
              "#fdca26"
             ],
             [
              1,
              "#f0f921"
             ]
            ],
            "type": "histogram2d"
           }
          ],
          "histogram2dcontour": [
           {
            "colorbar": {
             "outlinewidth": 0,
             "ticks": ""
            },
            "colorscale": [
             [
              0,
              "#0d0887"
             ],
             [
              0.1111111111111111,
              "#46039f"
             ],
             [
              0.2222222222222222,
              "#7201a8"
             ],
             [
              0.3333333333333333,
              "#9c179e"
             ],
             [
              0.4444444444444444,
              "#bd3786"
             ],
             [
              0.5555555555555556,
              "#d8576b"
             ],
             [
              0.6666666666666666,
              "#ed7953"
             ],
             [
              0.7777777777777778,
              "#fb9f3a"
             ],
             [
              0.8888888888888888,
              "#fdca26"
             ],
             [
              1,
              "#f0f921"
             ]
            ],
            "type": "histogram2dcontour"
           }
          ],
          "mesh3d": [
           {
            "colorbar": {
             "outlinewidth": 0,
             "ticks": ""
            },
            "type": "mesh3d"
           }
          ],
          "parcoords": [
           {
            "line": {
             "colorbar": {
              "outlinewidth": 0,
              "ticks": ""
             }
            },
            "type": "parcoords"
           }
          ],
          "pie": [
           {
            "automargin": true,
            "type": "pie"
           }
          ],
          "scatter": [
           {
            "marker": {
             "colorbar": {
              "outlinewidth": 0,
              "ticks": ""
             }
            },
            "type": "scatter"
           }
          ],
          "scatter3d": [
           {
            "line": {
             "colorbar": {
              "outlinewidth": 0,
              "ticks": ""
             }
            },
            "marker": {
             "colorbar": {
              "outlinewidth": 0,
              "ticks": ""
             }
            },
            "type": "scatter3d"
           }
          ],
          "scattercarpet": [
           {
            "marker": {
             "colorbar": {
              "outlinewidth": 0,
              "ticks": ""
             }
            },
            "type": "scattercarpet"
           }
          ],
          "scattergeo": [
           {
            "marker": {
             "colorbar": {
              "outlinewidth": 0,
              "ticks": ""
             }
            },
            "type": "scattergeo"
           }
          ],
          "scattergl": [
           {
            "marker": {
             "colorbar": {
              "outlinewidth": 0,
              "ticks": ""
             }
            },
            "type": "scattergl"
           }
          ],
          "scattermapbox": [
           {
            "marker": {
             "colorbar": {
              "outlinewidth": 0,
              "ticks": ""
             }
            },
            "type": "scattermapbox"
           }
          ],
          "scatterpolar": [
           {
            "marker": {
             "colorbar": {
              "outlinewidth": 0,
              "ticks": ""
             }
            },
            "type": "scatterpolar"
           }
          ],
          "scatterpolargl": [
           {
            "marker": {
             "colorbar": {
              "outlinewidth": 0,
              "ticks": ""
             }
            },
            "type": "scatterpolargl"
           }
          ],
          "scatterternary": [
           {
            "marker": {
             "colorbar": {
              "outlinewidth": 0,
              "ticks": ""
             }
            },
            "type": "scatterternary"
           }
          ],
          "surface": [
           {
            "colorbar": {
             "outlinewidth": 0,
             "ticks": ""
            },
            "colorscale": [
             [
              0,
              "#0d0887"
             ],
             [
              0.1111111111111111,
              "#46039f"
             ],
             [
              0.2222222222222222,
              "#7201a8"
             ],
             [
              0.3333333333333333,
              "#9c179e"
             ],
             [
              0.4444444444444444,
              "#bd3786"
             ],
             [
              0.5555555555555556,
              "#d8576b"
             ],
             [
              0.6666666666666666,
              "#ed7953"
             ],
             [
              0.7777777777777778,
              "#fb9f3a"
             ],
             [
              0.8888888888888888,
              "#fdca26"
             ],
             [
              1,
              "#f0f921"
             ]
            ],
            "type": "surface"
           }
          ],
          "table": [
           {
            "cells": {
             "fill": {
              "color": "#EBF0F8"
             },
             "line": {
              "color": "white"
             }
            },
            "header": {
             "fill": {
              "color": "#C8D4E3"
             },
             "line": {
              "color": "white"
             }
            },
            "type": "table"
           }
          ]
         },
         "layout": {
          "annotationdefaults": {
           "arrowcolor": "#2a3f5f",
           "arrowhead": 0,
           "arrowwidth": 1
          },
          "autotypenumbers": "strict",
          "coloraxis": {
           "colorbar": {
            "outlinewidth": 0,
            "ticks": ""
           }
          },
          "colorscale": {
           "diverging": [
            [
             0,
             "#8e0152"
            ],
            [
             0.1,
             "#c51b7d"
            ],
            [
             0.2,
             "#de77ae"
            ],
            [
             0.3,
             "#f1b6da"
            ],
            [
             0.4,
             "#fde0ef"
            ],
            [
             0.5,
             "#f7f7f7"
            ],
            [
             0.6,
             "#e6f5d0"
            ],
            [
             0.7,
             "#b8e186"
            ],
            [
             0.8,
             "#7fbc41"
            ],
            [
             0.9,
             "#4d9221"
            ],
            [
             1,
             "#276419"
            ]
           ],
           "sequential": [
            [
             0,
             "#0d0887"
            ],
            [
             0.1111111111111111,
             "#46039f"
            ],
            [
             0.2222222222222222,
             "#7201a8"
            ],
            [
             0.3333333333333333,
             "#9c179e"
            ],
            [
             0.4444444444444444,
             "#bd3786"
            ],
            [
             0.5555555555555556,
             "#d8576b"
            ],
            [
             0.6666666666666666,
             "#ed7953"
            ],
            [
             0.7777777777777778,
             "#fb9f3a"
            ],
            [
             0.8888888888888888,
             "#fdca26"
            ],
            [
             1,
             "#f0f921"
            ]
           ],
           "sequentialminus": [
            [
             0,
             "#0d0887"
            ],
            [
             0.1111111111111111,
             "#46039f"
            ],
            [
             0.2222222222222222,
             "#7201a8"
            ],
            [
             0.3333333333333333,
             "#9c179e"
            ],
            [
             0.4444444444444444,
             "#bd3786"
            ],
            [
             0.5555555555555556,
             "#d8576b"
            ],
            [
             0.6666666666666666,
             "#ed7953"
            ],
            [
             0.7777777777777778,
             "#fb9f3a"
            ],
            [
             0.8888888888888888,
             "#fdca26"
            ],
            [
             1,
             "#f0f921"
            ]
           ]
          },
          "colorway": [
           "#636efa",
           "#EF553B",
           "#00cc96",
           "#ab63fa",
           "#FFA15A",
           "#19d3f3",
           "#FF6692",
           "#B6E880",
           "#FF97FF",
           "#FECB52"
          ],
          "font": {
           "color": "#2a3f5f"
          },
          "geo": {
           "bgcolor": "white",
           "lakecolor": "white",
           "landcolor": "#E5ECF6",
           "showlakes": true,
           "showland": true,
           "subunitcolor": "white"
          },
          "hoverlabel": {
           "align": "left"
          },
          "hovermode": "closest",
          "mapbox": {
           "style": "light"
          },
          "paper_bgcolor": "white",
          "plot_bgcolor": "#E5ECF6",
          "polar": {
           "angularaxis": {
            "gridcolor": "white",
            "linecolor": "white",
            "ticks": ""
           },
           "bgcolor": "#E5ECF6",
           "radialaxis": {
            "gridcolor": "white",
            "linecolor": "white",
            "ticks": ""
           }
          },
          "scene": {
           "xaxis": {
            "backgroundcolor": "#E5ECF6",
            "gridcolor": "white",
            "gridwidth": 2,
            "linecolor": "white",
            "showbackground": true,
            "ticks": "",
            "zerolinecolor": "white"
           },
           "yaxis": {
            "backgroundcolor": "#E5ECF6",
            "gridcolor": "white",
            "gridwidth": 2,
            "linecolor": "white",
            "showbackground": true,
            "ticks": "",
            "zerolinecolor": "white"
           },
           "zaxis": {
            "backgroundcolor": "#E5ECF6",
            "gridcolor": "white",
            "gridwidth": 2,
            "linecolor": "white",
            "showbackground": true,
            "ticks": "",
            "zerolinecolor": "white"
           }
          },
          "shapedefaults": {
           "line": {
            "color": "#2a3f5f"
           }
          },
          "ternary": {
           "aaxis": {
            "gridcolor": "white",
            "linecolor": "white",
            "ticks": ""
           },
           "baxis": {
            "gridcolor": "white",
            "linecolor": "white",
            "ticks": ""
           },
           "bgcolor": "#E5ECF6",
           "caxis": {
            "gridcolor": "white",
            "linecolor": "white",
            "ticks": ""
           }
          },
          "title": {
           "x": 0.05
          },
          "xaxis": {
           "automargin": true,
           "gridcolor": "white",
           "linecolor": "white",
           "ticks": "",
           "title": {
            "standoff": 15
           },
           "zerolinecolor": "white",
           "zerolinewidth": 2
          },
          "yaxis": {
           "automargin": true,
           "gridcolor": "white",
           "linecolor": "white",
           "ticks": "",
           "title": {
            "standoff": 15
           },
           "zerolinecolor": "white",
           "zerolinewidth": 2
          }
         }
        },
        "xaxis": {
         "anchor": "y",
         "domain": [
          0,
          1
         ],
         "title": {
          "text": "años"
         }
        },
        "yaxis": {
         "anchor": "x",
         "domain": [
          0,
          1
         ],
         "title": {
          "text": "longitud"
         }
        }
       }
      },
      "text/html": [
       "<div>                            <div id=\"3bf152f0-158e-4062-92b2-927d3edf5c95\" class=\"plotly-graph-div\" style=\"height:525px; width:100%;\"></div>            <script type=\"text/javascript\">                require([\"plotly\"], function(Plotly) {                    window.PLOTLYENV=window.PLOTLYENV || {};                                    if (document.getElementById(\"3bf152f0-158e-4062-92b2-927d3edf5c95\")) {                    Plotly.newPlot(                        \"3bf152f0-158e-4062-92b2-927d3edf5c95\",                        [{\"hovertemplate\":\"a\\u00f1os=%{x}<br>longitud=%{y}<extra></extra>\",\"legendgroup\":\"\",\"line\":{\"color\":\"#636efa\",\"dash\":\"solid\"},\"mode\":\"lines\",\"name\":\"\",\"orientation\":\"v\",\"showlegend\":false,\"type\":\"scatter\",\"x\":[0.0,1.0112359550561798,2.0224719101123596,3.033707865168539,4.044943820224719,5.056179775280899,6.067415730337078,7.078651685393258,8.089887640449438,9.101123595505618,10.112359550561798,11.123595505617978,12.134831460674157,13.146067415730338,14.157303370786517,15.168539325842698,16.179775280898877,17.191011235955056,18.202247191011235,19.213483146067418,20.224719101123597,21.235955056179776,22.247191011235955,23.258426966292134,24.269662921348313,25.280898876404496,26.292134831460675,27.303370786516854,28.314606741573034,29.325842696629213,30.337078651685395,31.348314606741575,32.359550561797754,33.37078651685393,34.38202247191011,35.39325842696629,36.40449438202247,37.41573033707865,38.426966292134836,39.438202247191015,40.449438202247194,41.46067415730337,42.47191011235955,43.48314606741573,44.49438202247191,45.50561797752809,46.51685393258427,47.52808988764045,48.53932584269663,49.55056179775281,50.56179775280899,51.57303370786517,52.58426966292135,53.59550561797753,54.60674157303371,55.61797752808989,56.62921348314607,57.640449438202246,58.651685393258425,59.66292134831461,60.67415730337079,61.68539325842697,62.69662921348315,63.70786516853933,64.71910112359551,65.73033707865169,66.74157303370787,67.75280898876404,68.76404494382022,69.7752808988764,70.78651685393258,71.79775280898876,72.80898876404494,73.82022471910112,74.8314606741573,75.84269662921349,76.85393258426967,77.86516853932585,78.87640449438203,79.88764044943821,80.89887640449439,81.91011235955057,82.92134831460675,83.93258426966293,84.9438202247191,85.95505617977528,86.96629213483146,87.97752808988764,88.98876404494382,90.0],\"xaxis\":\"x\",\"y\":[7.3,8.571268057784913,9.842536115569825,11.113804173354735,12.385072231139649,13.65634028892456,14.927608346709471,16.198876404494385,17.470144462279297,18.741412520064205,20.01268057784912,21.28394863563403,22.55521669341894,23.826484751203857,25.09775280898877,26.36902086677368,27.640288924558593,28.9115569823435,30.182825040128414,31.45409309791333,32.72536115569824,33.99662921348315,35.26789727126806,36.53916532905297,37.810433386837886,39.0817014446228,40.35296950240771,41.62423756019262,42.895505617977534,44.16677367576244,45.43804173354736,46.70930979133227,47.98057784911718,49.25184590690209,50.523113964687,51.794382022471915,53.06565008025682,54.33691813804173,55.608186195826654,56.87945425361156,58.15072231139648,59.42199036918139,60.6932584269663,61.96452648475121,63.23579454253612,64.50706260032104,65.77833065810594,67.04959871589085,68.32086677367577,69.59213483146068,70.8634028892456,72.13467094703051,73.40593900481542,74.67720706260033,75.94847512038524,77.21974317817015,78.49101123595507,79.76227929373998,81.03354735152489,82.30481540930981,83.57608346709472,84.84735152487963,86.11861958266454,87.38988764044944,88.66115569823437,89.93242375601928,91.20369181380418,92.47495987158909,93.746227929374,95.01749598715892,96.28876404494383,97.56003210272874,98.83130016051365,100.10256821829856,101.37383627608347,102.6451043338684,103.91637239165331,105.18764044943822,106.45890850722313,107.73017656500805,109.00144462279296,110.27271268057787,111.54398073836278,112.81524879614769,114.08651685393261,115.35778491171752,116.62905296950242,117.90032102728733,119.17158908507224,120.44285714285716],\"yaxis\":\"y\"}],                        {\"legend\":{\"tracegroupgap\":0},\"margin\":{\"t\":60},\"template\":{\"data\":{\"bar\":[{\"error_x\":{\"color\":\"#2a3f5f\"},\"error_y\":{\"color\":\"#2a3f5f\"},\"marker\":{\"line\":{\"color\":\"#E5ECF6\",\"width\":0.5},\"pattern\":{\"fillmode\":\"overlay\",\"size\":10,\"solidity\":0.2}},\"type\":\"bar\"}],\"barpolar\":[{\"marker\":{\"line\":{\"color\":\"#E5ECF6\",\"width\":0.5},\"pattern\":{\"fillmode\":\"overlay\",\"size\":10,\"solidity\":0.2}},\"type\":\"barpolar\"}],\"carpet\":[{\"aaxis\":{\"endlinecolor\":\"#2a3f5f\",\"gridcolor\":\"white\",\"linecolor\":\"white\",\"minorgridcolor\":\"white\",\"startlinecolor\":\"#2a3f5f\"},\"baxis\":{\"endlinecolor\":\"#2a3f5f\",\"gridcolor\":\"white\",\"linecolor\":\"white\",\"minorgridcolor\":\"white\",\"startlinecolor\":\"#2a3f5f\"},\"type\":\"carpet\"}],\"choropleth\":[{\"colorbar\":{\"outlinewidth\":0,\"ticks\":\"\"},\"type\":\"choropleth\"}],\"contour\":[{\"colorbar\":{\"outlinewidth\":0,\"ticks\":\"\"},\"colorscale\":[[0.0,\"#0d0887\"],[0.1111111111111111,\"#46039f\"],[0.2222222222222222,\"#7201a8\"],[0.3333333333333333,\"#9c179e\"],[0.4444444444444444,\"#bd3786\"],[0.5555555555555556,\"#d8576b\"],[0.6666666666666666,\"#ed7953\"],[0.7777777777777778,\"#fb9f3a\"],[0.8888888888888888,\"#fdca26\"],[1.0,\"#f0f921\"]],\"type\":\"contour\"}],\"contourcarpet\":[{\"colorbar\":{\"outlinewidth\":0,\"ticks\":\"\"},\"type\":\"contourcarpet\"}],\"heatmap\":[{\"colorbar\":{\"outlinewidth\":0,\"ticks\":\"\"},\"colorscale\":[[0.0,\"#0d0887\"],[0.1111111111111111,\"#46039f\"],[0.2222222222222222,\"#7201a8\"],[0.3333333333333333,\"#9c179e\"],[0.4444444444444444,\"#bd3786\"],[0.5555555555555556,\"#d8576b\"],[0.6666666666666666,\"#ed7953\"],[0.7777777777777778,\"#fb9f3a\"],[0.8888888888888888,\"#fdca26\"],[1.0,\"#f0f921\"]],\"type\":\"heatmap\"}],\"heatmapgl\":[{\"colorbar\":{\"outlinewidth\":0,\"ticks\":\"\"},\"colorscale\":[[0.0,\"#0d0887\"],[0.1111111111111111,\"#46039f\"],[0.2222222222222222,\"#7201a8\"],[0.3333333333333333,\"#9c179e\"],[0.4444444444444444,\"#bd3786\"],[0.5555555555555556,\"#d8576b\"],[0.6666666666666666,\"#ed7953\"],[0.7777777777777778,\"#fb9f3a\"],[0.8888888888888888,\"#fdca26\"],[1.0,\"#f0f921\"]],\"type\":\"heatmapgl\"}],\"histogram\":[{\"marker\":{\"pattern\":{\"fillmode\":\"overlay\",\"size\":10,\"solidity\":0.2}},\"type\":\"histogram\"}],\"histogram2d\":[{\"colorbar\":{\"outlinewidth\":0,\"ticks\":\"\"},\"colorscale\":[[0.0,\"#0d0887\"],[0.1111111111111111,\"#46039f\"],[0.2222222222222222,\"#7201a8\"],[0.3333333333333333,\"#9c179e\"],[0.4444444444444444,\"#bd3786\"],[0.5555555555555556,\"#d8576b\"],[0.6666666666666666,\"#ed7953\"],[0.7777777777777778,\"#fb9f3a\"],[0.8888888888888888,\"#fdca26\"],[1.0,\"#f0f921\"]],\"type\":\"histogram2d\"}],\"histogram2dcontour\":[{\"colorbar\":{\"outlinewidth\":0,\"ticks\":\"\"},\"colorscale\":[[0.0,\"#0d0887\"],[0.1111111111111111,\"#46039f\"],[0.2222222222222222,\"#7201a8\"],[0.3333333333333333,\"#9c179e\"],[0.4444444444444444,\"#bd3786\"],[0.5555555555555556,\"#d8576b\"],[0.6666666666666666,\"#ed7953\"],[0.7777777777777778,\"#fb9f3a\"],[0.8888888888888888,\"#fdca26\"],[1.0,\"#f0f921\"]],\"type\":\"histogram2dcontour\"}],\"mesh3d\":[{\"colorbar\":{\"outlinewidth\":0,\"ticks\":\"\"},\"type\":\"mesh3d\"}],\"parcoords\":[{\"line\":{\"colorbar\":{\"outlinewidth\":0,\"ticks\":\"\"}},\"type\":\"parcoords\"}],\"pie\":[{\"automargin\":true,\"type\":\"pie\"}],\"scatter\":[{\"marker\":{\"colorbar\":{\"outlinewidth\":0,\"ticks\":\"\"}},\"type\":\"scatter\"}],\"scatter3d\":[{\"line\":{\"colorbar\":{\"outlinewidth\":0,\"ticks\":\"\"}},\"marker\":{\"colorbar\":{\"outlinewidth\":0,\"ticks\":\"\"}},\"type\":\"scatter3d\"}],\"scattercarpet\":[{\"marker\":{\"colorbar\":{\"outlinewidth\":0,\"ticks\":\"\"}},\"type\":\"scattercarpet\"}],\"scattergeo\":[{\"marker\":{\"colorbar\":{\"outlinewidth\":0,\"ticks\":\"\"}},\"type\":\"scattergeo\"}],\"scattergl\":[{\"marker\":{\"colorbar\":{\"outlinewidth\":0,\"ticks\":\"\"}},\"type\":\"scattergl\"}],\"scattermapbox\":[{\"marker\":{\"colorbar\":{\"outlinewidth\":0,\"ticks\":\"\"}},\"type\":\"scattermapbox\"}],\"scatterpolar\":[{\"marker\":{\"colorbar\":{\"outlinewidth\":0,\"ticks\":\"\"}},\"type\":\"scatterpolar\"}],\"scatterpolargl\":[{\"marker\":{\"colorbar\":{\"outlinewidth\":0,\"ticks\":\"\"}},\"type\":\"scatterpolargl\"}],\"scatterternary\":[{\"marker\":{\"colorbar\":{\"outlinewidth\":0,\"ticks\":\"\"}},\"type\":\"scatterternary\"}],\"surface\":[{\"colorbar\":{\"outlinewidth\":0,\"ticks\":\"\"},\"colorscale\":[[0.0,\"#0d0887\"],[0.1111111111111111,\"#46039f\"],[0.2222222222222222,\"#7201a8\"],[0.3333333333333333,\"#9c179e\"],[0.4444444444444444,\"#bd3786\"],[0.5555555555555556,\"#d8576b\"],[0.6666666666666666,\"#ed7953\"],[0.7777777777777778,\"#fb9f3a\"],[0.8888888888888888,\"#fdca26\"],[1.0,\"#f0f921\"]],\"type\":\"surface\"}],\"table\":[{\"cells\":{\"fill\":{\"color\":\"#EBF0F8\"},\"line\":{\"color\":\"white\"}},\"header\":{\"fill\":{\"color\":\"#C8D4E3\"},\"line\":{\"color\":\"white\"}},\"type\":\"table\"}]},\"layout\":{\"annotationdefaults\":{\"arrowcolor\":\"#2a3f5f\",\"arrowhead\":0,\"arrowwidth\":1},\"autotypenumbers\":\"strict\",\"coloraxis\":{\"colorbar\":{\"outlinewidth\":0,\"ticks\":\"\"}},\"colorscale\":{\"diverging\":[[0,\"#8e0152\"],[0.1,\"#c51b7d\"],[0.2,\"#de77ae\"],[0.3,\"#f1b6da\"],[0.4,\"#fde0ef\"],[0.5,\"#f7f7f7\"],[0.6,\"#e6f5d0\"],[0.7,\"#b8e186\"],[0.8,\"#7fbc41\"],[0.9,\"#4d9221\"],[1,\"#276419\"]],\"sequential\":[[0.0,\"#0d0887\"],[0.1111111111111111,\"#46039f\"],[0.2222222222222222,\"#7201a8\"],[0.3333333333333333,\"#9c179e\"],[0.4444444444444444,\"#bd3786\"],[0.5555555555555556,\"#d8576b\"],[0.6666666666666666,\"#ed7953\"],[0.7777777777777778,\"#fb9f3a\"],[0.8888888888888888,\"#fdca26\"],[1.0,\"#f0f921\"]],\"sequentialminus\":[[0.0,\"#0d0887\"],[0.1111111111111111,\"#46039f\"],[0.2222222222222222,\"#7201a8\"],[0.3333333333333333,\"#9c179e\"],[0.4444444444444444,\"#bd3786\"],[0.5555555555555556,\"#d8576b\"],[0.6666666666666666,\"#ed7953\"],[0.7777777777777778,\"#fb9f3a\"],[0.8888888888888888,\"#fdca26\"],[1.0,\"#f0f921\"]]},\"colorway\":[\"#636efa\",\"#EF553B\",\"#00cc96\",\"#ab63fa\",\"#FFA15A\",\"#19d3f3\",\"#FF6692\",\"#B6E880\",\"#FF97FF\",\"#FECB52\"],\"font\":{\"color\":\"#2a3f5f\"},\"geo\":{\"bgcolor\":\"white\",\"lakecolor\":\"white\",\"landcolor\":\"#E5ECF6\",\"showlakes\":true,\"showland\":true,\"subunitcolor\":\"white\"},\"hoverlabel\":{\"align\":\"left\"},\"hovermode\":\"closest\",\"mapbox\":{\"style\":\"light\"},\"paper_bgcolor\":\"white\",\"plot_bgcolor\":\"#E5ECF6\",\"polar\":{\"angularaxis\":{\"gridcolor\":\"white\",\"linecolor\":\"white\",\"ticks\":\"\"},\"bgcolor\":\"#E5ECF6\",\"radialaxis\":{\"gridcolor\":\"white\",\"linecolor\":\"white\",\"ticks\":\"\"}},\"scene\":{\"xaxis\":{\"backgroundcolor\":\"#E5ECF6\",\"gridcolor\":\"white\",\"gridwidth\":2,\"linecolor\":\"white\",\"showbackground\":true,\"ticks\":\"\",\"zerolinecolor\":\"white\"},\"yaxis\":{\"backgroundcolor\":\"#E5ECF6\",\"gridcolor\":\"white\",\"gridwidth\":2,\"linecolor\":\"white\",\"showbackground\":true,\"ticks\":\"\",\"zerolinecolor\":\"white\"},\"zaxis\":{\"backgroundcolor\":\"#E5ECF6\",\"gridcolor\":\"white\",\"gridwidth\":2,\"linecolor\":\"white\",\"showbackground\":true,\"ticks\":\"\",\"zerolinecolor\":\"white\"}},\"shapedefaults\":{\"line\":{\"color\":\"#2a3f5f\"}},\"ternary\":{\"aaxis\":{\"gridcolor\":\"white\",\"linecolor\":\"white\",\"ticks\":\"\"},\"baxis\":{\"gridcolor\":\"white\",\"linecolor\":\"white\",\"ticks\":\"\"},\"bgcolor\":\"#E5ECF6\",\"caxis\":{\"gridcolor\":\"white\",\"linecolor\":\"white\",\"ticks\":\"\"}},\"title\":{\"x\":0.05},\"xaxis\":{\"automargin\":true,\"gridcolor\":\"white\",\"linecolor\":\"white\",\"ticks\":\"\",\"title\":{\"standoff\":15},\"zerolinecolor\":\"white\",\"zerolinewidth\":2},\"yaxis\":{\"automargin\":true,\"gridcolor\":\"white\",\"linecolor\":\"white\",\"ticks\":\"\",\"title\":{\"standoff\":15},\"zerolinecolor\":\"white\",\"zerolinewidth\":2}}},\"xaxis\":{\"anchor\":\"y\",\"domain\":[0.0,1.0],\"title\":{\"text\":\"a\\u00f1os\"}},\"yaxis\":{\"anchor\":\"x\",\"domain\":[0.0,1.0],\"title\":{\"text\":\"longitud\"}}},                        {\"responsive\": true}                    ).then(function(){\n",
       "                            \n",
       "var gd = document.getElementById('3bf152f0-158e-4062-92b2-927d3edf5c95');\n",
       "var x = new MutationObserver(function (mutations, observer) {{\n",
       "        var display = window.getComputedStyle(gd).display;\n",
       "        if (!display || display === 'none') {{\n",
       "            console.log([gd, 'removed!']);\n",
       "            Plotly.purge(gd);\n",
       "            observer.disconnect();\n",
       "        }}\n",
       "}});\n",
       "\n",
       "// Listen for the removal of the full notebook cells\n",
       "var notebookContainer = gd.closest('#notebook-container');\n",
       "if (notebookContainer) {{\n",
       "    x.observe(notebookContainer, {childList: true});\n",
       "}}\n",
       "\n",
       "// Listen for the clearing of the current output cell\n",
       "var outputEl = gd.closest('.output');\n",
       "if (outputEl) {{\n",
       "    x.observe(outputEl, {childList: true});\n",
       "}}\n",
       "\n",
       "                        })                };                });            </script>        </div>"
      ]
     },
     "metadata": {},
     "output_type": "display_data"
    }
   ],
   "source": [
    "x = np.linspace(0, 90, 90)\n",
    "y = longitud_en_meses(x)\n",
    "datos = {'años':x, 'longitud': y}\n",
    "\n",
    "fig = dibujo.line(datos, x=\"años\",  y=\"longitud\")\n",
    "fig.show()"
   ]
  },
  {
   "cell_type": "markdown",
   "id": "e68451a7",
   "metadata": {
    "slideshow": {
     "slide_type": "slide"
    }
   },
   "source": [
    "* ¿Cuál es la pendiente de esta recta?\n",
    "* En este caso ¿qué representa la pendiente?"
   ]
  },
  {
   "cell_type": "code",
   "execution_count": 88,
   "id": "ec6dd8c0",
   "metadata": {
    "slideshow": {
     "slide_type": "slide"
    }
   },
   "outputs": [
    {
     "data": {
      "image/png": "[encoded data removed]",
      "text/plain": [
       "<Figure size 432x288 with 1 Axes>"
      ]
     },
     "metadata": {
      "needs_background": "light"
     },
     "output_type": "display_data"
    }
   ],
   "source": [
    "def sinplot():\n",
    "    x = np.linspace(0, 14, 100)\n",
    "    for i in range(1, 7):\n",
    "        plt.plot(x, np.sin(x + i * .5) * (7 - i))\n",
    "        \n",
    "sinplot()"
   ]
  },
  {
   "cell_type": "markdown",
   "id": "6ee2f48d",
   "metadata": {
    "slideshow": {
     "slide_type": "slide"
    }
   },
   "source": [
    "Un atleta corre los cien metros planos de manera que la distancia *s(t)* que ha recorrido a los *t* segundos está dada por $$1/5 t^2 +8t metros $$. \n",
    "* Calcula la velocidad del corredor en el momento de la salida *(t=0)* \n",
    "* a los 5 metros\n",
    "* en la llegada\n"
   ]
  },
  {
   "cell_type": "code",
   "execution_count": 19,
   "id": "d264bb7c",
   "metadata": {
    "slideshow": {
     "slide_type": "fragment"
    }
   },
   "outputs": [],
   "source": [
    "def metros_corredor(t):\n",
    "    return (1/5)*t**2+8*t"
   ]
  },
  {
   "cell_type": "code",
   "execution_count": 20,
   "id": "526a2595",
   "metadata": {
    "slideshow": {
     "slide_type": "fragment"
    }
   },
   "outputs": [
    {
     "data": {
      "text/plain": [
       "45.0"
      ]
     },
     "execution_count": 20,
     "metadata": {},
     "output_type": "execute_result"
    }
   ],
   "source": [
    "metros_corredor(5)"
   ]
  },
  {
   "cell_type": "code",
   "execution_count": 21,
   "id": "867416a8",
   "metadata": {
    "slideshow": {
     "slide_type": "slide"
    }
   },
   "outputs": [
    {
     "data": {
      "application/vnd.plotly.v1+json": {
       "config": {
        "plotlyServerURL": "https://plot.ly"
       },
       "data": [
        {
         "type": "scatter",
         "x": [
          0,
          1,
          2,
          3,
          4,
          5,
          6,
          7,
          8,
          9,
          10,
          11,
          12,
          13,
          14,
          15,
          16,
          17,
          18,
          19,
          20,
          21,
          22,
          23,
          24,
          25,
          26,
          27,
          28,
          29,
          30,
          31,
          32,
          33,
          34,
          35,
          36,
          37,
          38,
          39,
          40,
          41,
          42,
          43,
          44,
          45,
          46,
          47,
          48,
          49,
          50,
          51,
          52,
          53,
          54,
          55,
          56,
          57,
          58,
          59,
          60,
          61,
          62,
          63,
          64,
          65,
          66,
          67,
          68,
          69,
          70,
          71,
          72,
          73,
          74,
          75,
          76,
          77,
          78,
          79,
          80,
          81,
          82,
          83,
          84,
          85,
          86,
          87,
          88,
          89,
          90,
          91,
          92,
          93,
          94,
          95,
          96,
          97,
          98,
          99
         ],
         "y": [
          0,
          8.2,
          16.8,
          25.8,
          35.2,
          45,
          55.2,
          65.8,
          76.8,
          88.2,
          100,
          112.2,
          124.8,
          137.8,
          151.2,
          165,
          179.2,
          193.8,
          208.8,
          224.2,
          240,
          256.2,
          272.8,
          289.8,
          307.2,
          325,
          343.20000000000005,
          361.8,
          380.8,
          400.20000000000005,
          420,
          440.20000000000005,
          460.8,
          481.8,
          503.20000000000005,
          525,
          547.2,
          569.8,
          592.8,
          616.2,
          640,
          664.2,
          688.8,
          713.8,
          739.2,
          765,
          791.2,
          817.8,
          844.8,
          872.2,
          900,
          928.2,
          956.8000000000001,
          985.8000000000001,
          1015.2,
          1045,
          1075.2,
          1105.8000000000002,
          1136.8000000000002,
          1168.2,
          1200,
          1232.2,
          1264.8000000000002,
          1297.8000000000002,
          1331.2,
          1365,
          1399.2,
          1433.8000000000002,
          1468.8000000000002,
          1504.2,
          1540,
          1576.2,
          1612.8,
          1649.8,
          1687.2,
          1725,
          1763.2,
          1801.8,
          1840.8,
          1880.2,
          1920,
          1960.2,
          2000.8000000000002,
          2041.8000000000002,
          2083.2,
          2125,
          2167.2,
          2209.8,
          2252.8,
          2296.2,
          2340,
          2384.2,
          2428.8,
          2473.8,
          2519.2,
          2565,
          2611.2,
          2657.8,
          2704.8,
          2752.2
         ]
        }
       ],
       "layout": {
        "template": {
         "data": {
          "bar": [
           {
            "error_x": {
             "color": "#2a3f5f"
            },
            "error_y": {
             "color": "#2a3f5f"
            },
            "marker": {
             "line": {
              "color": "#E5ECF6",
              "width": 0.5
             },
             "pattern": {
              "fillmode": "overlay",
              "size": 10,
              "solidity": 0.2
             }
            },
            "type": "bar"
           }
          ],
          "barpolar": [
           {
            "marker": {
             "line": {
              "color": "#E5ECF6",
              "width": 0.5
             },
             "pattern": {
              "fillmode": "overlay",
              "size": 10,
              "solidity": 0.2
             }
            },
            "type": "barpolar"
           }
          ],
          "carpet": [
           {
            "aaxis": {
             "endlinecolor": "#2a3f5f",
             "gridcolor": "white",
             "linecolor": "white",
             "minorgridcolor": "white",
             "startlinecolor": "#2a3f5f"
            },
            "baxis": {
             "endlinecolor": "#2a3f5f",
             "gridcolor": "white",
             "linecolor": "white",
             "minorgridcolor": "white",
             "startlinecolor": "#2a3f5f"
            },
            "type": "carpet"
           }
          ],
          "choropleth": [
           {
            "colorbar": {
             "outlinewidth": 0,
             "ticks": ""
            },
            "type": "choropleth"
           }
          ],
          "contour": [
           {
            "colorbar": {
             "outlinewidth": 0,
             "ticks": ""
            },
            "colorscale": [
             [
              0,
              "#0d0887"
             ],
             [
              0.1111111111111111,
              "#46039f"
             ],
             [
              0.2222222222222222,
              "#7201a8"
             ],
             [
              0.3333333333333333,
              "#9c179e"
             ],
             [
              0.4444444444444444,
              "#bd3786"
             ],
             [
              0.5555555555555556,
              "#d8576b"
             ],
             [
              0.6666666666666666,
              "#ed7953"
             ],
             [
              0.7777777777777778,
              "#fb9f3a"
             ],
             [
              0.8888888888888888,
              "#fdca26"
             ],
             [
              1,
              "#f0f921"
             ]
            ],
            "type": "contour"
           }
          ],
          "contourcarpet": [
           {
            "colorbar": {
             "outlinewidth": 0,
             "ticks": ""
            },
            "type": "contourcarpet"
           }
          ],
          "heatmap": [
           {
            "colorbar": {
             "outlinewidth": 0,
             "ticks": ""
            },
            "colorscale": [
             [
              0,
              "#0d0887"
             ],
             [
              0.1111111111111111,
              "#46039f"
             ],
             [
              0.2222222222222222,
              "#7201a8"
             ],
             [
              0.3333333333333333,
              "#9c179e"
             ],
             [
              0.4444444444444444,
              "#bd3786"
             ],
             [
              0.5555555555555556,
              "#d8576b"
             ],
             [
              0.6666666666666666,
              "#ed7953"
             ],
             [
              0.7777777777777778,
              "#fb9f3a"
             ],
             [
              0.8888888888888888,
              "#fdca26"
             ],
             [
              1,
              "#f0f921"
             ]
            ],
            "type": "heatmap"
           }
          ],
          "heatmapgl": [
           {
            "colorbar": {
             "outlinewidth": 0,
             "ticks": ""
            },
            "colorscale": [
             [
              0,
              "#0d0887"
             ],
             [
              0.1111111111111111,
              "#46039f"
             ],
             [
              0.2222222222222222,
              "#7201a8"
             ],
             [
              0.3333333333333333,
              "#9c179e"
             ],
             [
              0.4444444444444444,
              "#bd3786"
             ],
             [
              0.5555555555555556,
              "#d8576b"
             ],
             [
              0.6666666666666666,
              "#ed7953"
             ],
             [
              0.7777777777777778,
              "#fb9f3a"
             ],
             [
              0.8888888888888888,
              "#fdca26"
             ],
             [
              1,
              "#f0f921"
             ]
            ],
            "type": "heatmapgl"
           }
          ],
          "histogram": [
           {
            "marker": {
             "pattern": {
              "fillmode": "overlay",
              "size": 10,
              "solidity": 0.2
             }
            },
            "type": "histogram"
           }
          ],
          "histogram2d": [
           {
            "colorbar": {
             "outlinewidth": 0,
             "ticks": ""
            },
            "colorscale": [
             [
              0,
              "#0d0887"
             ],
             [
              0.1111111111111111,
              "#46039f"
             ],
             [
              0.2222222222222222,
              "#7201a8"
             ],
             [
              0.3333333333333333,
              "#9c179e"
             ],
             [
              0.4444444444444444,
              "#bd3786"
             ],
             [
              0.5555555555555556,
              "#d8576b"
             ],
             [
              0.6666666666666666,
              "#ed7953"
             ],
             [
              0.7777777777777778,
              "#fb9f3a"
             ],
             [
              0.8888888888888888,
              "#fdca26"
             ],
             [
              1,
              "#f0f921"
             ]
            ],
            "type": "histogram2d"
           }
          ],
          "histogram2dcontour": [
           {
            "colorbar": {
             "outlinewidth": 0,
             "ticks": ""
            },
            "colorscale": [
             [
              0,
              "#0d0887"
             ],
             [
              0.1111111111111111,
              "#46039f"
             ],
             [
              0.2222222222222222,
              "#7201a8"
             ],
             [
              0.3333333333333333,
              "#9c179e"
             ],
             [
              0.4444444444444444,
              "#bd3786"
             ],
             [
              0.5555555555555556,
              "#d8576b"
             ],
             [
              0.6666666666666666,
              "#ed7953"
             ],
             [
              0.7777777777777778,
              "#fb9f3a"
             ],
             [
              0.8888888888888888,
              "#fdca26"
             ],
             [
              1,
              "#f0f921"
             ]
            ],
            "type": "histogram2dcontour"
           }
          ],
          "mesh3d": [
           {
            "colorbar": {
             "outlinewidth": 0,
             "ticks": ""
            },
            "type": "mesh3d"
           }
          ],
          "parcoords": [
           {
            "line": {
             "colorbar": {
              "outlinewidth": 0,
              "ticks": ""
             }
            },
            "type": "parcoords"
           }
          ],
          "pie": [
           {
            "automargin": true,
            "type": "pie"
           }
          ],
          "scatter": [
           {
            "marker": {
             "colorbar": {
              "outlinewidth": 0,
              "ticks": ""
             }
            },
            "type": "scatter"
           }
          ],
          "scatter3d": [
           {
            "line": {
             "colorbar": {
              "outlinewidth": 0,
              "ticks": ""
             }
            },
            "marker": {
             "colorbar": {
              "outlinewidth": 0,
              "ticks": ""
             }
            },
            "type": "scatter3d"
           }
          ],
          "scattercarpet": [
           {
            "marker": {
             "colorbar": {
              "outlinewidth": 0,
              "ticks": ""
             }
            },
            "type": "scattercarpet"
           }
          ],
          "scattergeo": [
           {
            "marker": {
             "colorbar": {
              "outlinewidth": 0,
              "ticks": ""
             }
            },
            "type": "scattergeo"
           }
          ],
          "scattergl": [
           {
            "marker": {
             "colorbar": {
              "outlinewidth": 0,
              "ticks": ""
             }
            },
            "type": "scattergl"
           }
          ],
          "scattermapbox": [
           {
            "marker": {
             "colorbar": {
              "outlinewidth": 0,
              "ticks": ""
             }
            },
            "type": "scattermapbox"
           }
          ],
          "scatterpolar": [
           {
            "marker": {
             "colorbar": {
              "outlinewidth": 0,
              "ticks": ""
             }
            },
            "type": "scatterpolar"
           }
          ],
          "scatterpolargl": [
           {
            "marker": {
             "colorbar": {
              "outlinewidth": 0,
              "ticks": ""
             }
            },
            "type": "scatterpolargl"
           }
          ],
          "scatterternary": [
           {
            "marker": {
             "colorbar": {
              "outlinewidth": 0,
              "ticks": ""
             }
            },
            "type": "scatterternary"
           }
          ],
          "surface": [
           {
            "colorbar": {
             "outlinewidth": 0,
             "ticks": ""
            },
            "colorscale": [
             [
              0,
              "#0d0887"
             ],
             [
              0.1111111111111111,
              "#46039f"
             ],
             [
              0.2222222222222222,
              "#7201a8"
             ],
             [
              0.3333333333333333,
              "#9c179e"
             ],
             [
              0.4444444444444444,
              "#bd3786"
             ],
             [
              0.5555555555555556,
              "#d8576b"
             ],
             [
              0.6666666666666666,
              "#ed7953"
             ],
             [
              0.7777777777777778,
              "#fb9f3a"
             ],
             [
              0.8888888888888888,
              "#fdca26"
             ],
             [
              1,
              "#f0f921"
             ]
            ],
            "type": "surface"
           }
          ],
          "table": [
           {
            "cells": {
             "fill": {
              "color": "#EBF0F8"
             },
             "line": {
              "color": "white"
             }
            },
            "header": {
             "fill": {
              "color": "#C8D4E3"
             },
             "line": {
              "color": "white"
             }
            },
            "type": "table"
           }
          ]
         },
         "layout": {
          "annotationdefaults": {
           "arrowcolor": "#2a3f5f",
           "arrowhead": 0,
           "arrowwidth": 1
          },
          "autotypenumbers": "strict",
          "coloraxis": {
           "colorbar": {
            "outlinewidth": 0,
            "ticks": ""
           }
          },
          "colorscale": {
           "diverging": [
            [
             0,
             "#8e0152"
            ],
            [
             0.1,
             "#c51b7d"
            ],
            [
             0.2,
             "#de77ae"
            ],
            [
             0.3,
             "#f1b6da"
            ],
            [
             0.4,
             "#fde0ef"
            ],
            [
             0.5,
             "#f7f7f7"
            ],
            [
             0.6,
             "#e6f5d0"
            ],
            [
             0.7,
             "#b8e186"
            ],
            [
             0.8,
             "#7fbc41"
            ],
            [
             0.9,
             "#4d9221"
            ],
            [
             1,
             "#276419"
            ]
           ],
           "sequential": [
            [
             0,
             "#0d0887"
            ],
            [
             0.1111111111111111,
             "#46039f"
            ],
            [
             0.2222222222222222,
             "#7201a8"
            ],
            [
             0.3333333333333333,
             "#9c179e"
            ],
            [
             0.4444444444444444,
             "#bd3786"
            ],
            [
             0.5555555555555556,
             "#d8576b"
            ],
            [
             0.6666666666666666,
             "#ed7953"
            ],
            [
             0.7777777777777778,
             "#fb9f3a"
            ],
            [
             0.8888888888888888,
             "#fdca26"
            ],
            [
             1,
             "#f0f921"
            ]
           ],
           "sequentialminus": [
            [
             0,
             "#0d0887"
            ],
            [
             0.1111111111111111,
             "#46039f"
            ],
            [
             0.2222222222222222,
             "#7201a8"
            ],
            [
             0.3333333333333333,
             "#9c179e"
            ],
            [
             0.4444444444444444,
             "#bd3786"
            ],
            [
             0.5555555555555556,
             "#d8576b"
            ],
            [
             0.6666666666666666,
             "#ed7953"
            ],
            [
             0.7777777777777778,
             "#fb9f3a"
            ],
            [
             0.8888888888888888,
             "#fdca26"
            ],
            [
             1,
             "#f0f921"
            ]
           ]
          },
          "colorway": [
           "#636efa",
           "#EF553B",
           "#00cc96",
           "#ab63fa",
           "#FFA15A",
           "#19d3f3",
           "#FF6692",
           "#B6E880",
           "#FF97FF",
           "#FECB52"
          ],
          "font": {
           "color": "#2a3f5f"
          },
          "geo": {
           "bgcolor": "white",
           "lakecolor": "white",
           "landcolor": "#E5ECF6",
           "showlakes": true,
           "showland": true,
           "subunitcolor": "white"
          },
          "hoverlabel": {
           "align": "left"
          },
          "hovermode": "closest",
          "mapbox": {
           "style": "light"
          },
          "paper_bgcolor": "white",
          "plot_bgcolor": "#E5ECF6",
          "polar": {
           "angularaxis": {
            "gridcolor": "white",
            "linecolor": "white",
            "ticks": ""
           },
           "bgcolor": "#E5ECF6",
           "radialaxis": {
            "gridcolor": "white",
            "linecolor": "white",
            "ticks": ""
           }
          },
          "scene": {
           "xaxis": {
            "backgroundcolor": "#E5ECF6",
            "gridcolor": "white",
            "gridwidth": 2,
            "linecolor": "white",
            "showbackground": true,
            "ticks": "",
            "zerolinecolor": "white"
           },
           "yaxis": {
            "backgroundcolor": "#E5ECF6",
            "gridcolor": "white",
            "gridwidth": 2,
            "linecolor": "white",
            "showbackground": true,
            "ticks": "",
            "zerolinecolor": "white"
           },
           "zaxis": {
            "backgroundcolor": "#E5ECF6",
            "gridcolor": "white",
            "gridwidth": 2,
            "linecolor": "white",
            "showbackground": true,
            "ticks": "",
            "zerolinecolor": "white"
           }
          },
          "shapedefaults": {
           "line": {
            "color": "#2a3f5f"
           }
          },
          "ternary": {
           "aaxis": {
            "gridcolor": "white",
            "linecolor": "white",
            "ticks": ""
           },
           "baxis": {
            "gridcolor": "white",
            "linecolor": "white",
            "ticks": ""
           },
           "bgcolor": "#E5ECF6",
           "caxis": {
            "gridcolor": "white",
            "linecolor": "white",
            "ticks": ""
           }
          },
          "title": {
           "x": 0.05
          },
          "xaxis": {
           "automargin": true,
           "gridcolor": "white",
           "linecolor": "white",
           "ticks": "",
           "title": {
            "standoff": 15
           },
           "zerolinecolor": "white",
           "zerolinewidth": 2
          },
          "yaxis": {
           "automargin": true,
           "gridcolor": "white",
           "linecolor": "white",
           "ticks": "",
           "title": {
            "standoff": 15
           },
           "zerolinecolor": "white",
           "zerolinewidth": 2
          }
         }
        }
       }
      },
      "text/html": [
       "<div>                            <div id=\"99f76ca8-901f-40ac-9713-92085a1e7f62\" class=\"plotly-graph-div\" style=\"height:525px; width:100%;\"></div>            <script type=\"text/javascript\">                require([\"plotly\"], function(Plotly) {                    window.PLOTLYENV=window.PLOTLYENV || {};                                    if (document.getElementById(\"99f76ca8-901f-40ac-9713-92085a1e7f62\")) {                    Plotly.newPlot(                        \"99f76ca8-901f-40ac-9713-92085a1e7f62\",                        [{\"type\":\"scatter\",\"x\":[0,1,2,3,4,5,6,7,8,9,10,11,12,13,14,15,16,17,18,19,20,21,22,23,24,25,26,27,28,29,30,31,32,33,34,35,36,37,38,39,40,41,42,43,44,45,46,47,48,49,50,51,52,53,54,55,56,57,58,59,60,61,62,63,64,65,66,67,68,69,70,71,72,73,74,75,76,77,78,79,80,81,82,83,84,85,86,87,88,89,90,91,92,93,94,95,96,97,98,99],\"y\":[0.0,8.2,16.8,25.8,35.2,45.0,55.2,65.8,76.8,88.2,100.0,112.2,124.8,137.8,151.2,165.0,179.2,193.8,208.8,224.2,240.0,256.2,272.8,289.8,307.2,325.0,343.20000000000005,361.8,380.8,400.20000000000005,420.0,440.20000000000005,460.8,481.8,503.20000000000005,525.0,547.2,569.8,592.8,616.2,640.0,664.2,688.8,713.8,739.2,765.0,791.2,817.8,844.8,872.2,900.0,928.2,956.8000000000001,985.8000000000001,1015.2,1045.0,1075.2,1105.8000000000002,1136.8000000000002,1168.2,1200.0,1232.2,1264.8000000000002,1297.8000000000002,1331.2,1365.0,1399.2,1433.8000000000002,1468.8000000000002,1504.2,1540.0,1576.2,1612.8,1649.8,1687.2,1725.0,1763.2,1801.8,1840.8,1880.2,1920.0,1960.2,2000.8000000000002,2041.8000000000002,2083.2,2125.0,2167.2,2209.8,2252.8,2296.2,2340.0,2384.2,2428.8,2473.8,2519.2,2565.0,2611.2,2657.8,2704.8,2752.2]}],                        {\"template\":{\"data\":{\"bar\":[{\"error_x\":{\"color\":\"#2a3f5f\"},\"error_y\":{\"color\":\"#2a3f5f\"},\"marker\":{\"line\":{\"color\":\"#E5ECF6\",\"width\":0.5},\"pattern\":{\"fillmode\":\"overlay\",\"size\":10,\"solidity\":0.2}},\"type\":\"bar\"}],\"barpolar\":[{\"marker\":{\"line\":{\"color\":\"#E5ECF6\",\"width\":0.5},\"pattern\":{\"fillmode\":\"overlay\",\"size\":10,\"solidity\":0.2}},\"type\":\"barpolar\"}],\"carpet\":[{\"aaxis\":{\"endlinecolor\":\"#2a3f5f\",\"gridcolor\":\"white\",\"linecolor\":\"white\",\"minorgridcolor\":\"white\",\"startlinecolor\":\"#2a3f5f\"},\"baxis\":{\"endlinecolor\":\"#2a3f5f\",\"gridcolor\":\"white\",\"linecolor\":\"white\",\"minorgridcolor\":\"white\",\"startlinecolor\":\"#2a3f5f\"},\"type\":\"carpet\"}],\"choropleth\":[{\"colorbar\":{\"outlinewidth\":0,\"ticks\":\"\"},\"type\":\"choropleth\"}],\"contour\":[{\"colorbar\":{\"outlinewidth\":0,\"ticks\":\"\"},\"colorscale\":[[0.0,\"#0d0887\"],[0.1111111111111111,\"#46039f\"],[0.2222222222222222,\"#7201a8\"],[0.3333333333333333,\"#9c179e\"],[0.4444444444444444,\"#bd3786\"],[0.5555555555555556,\"#d8576b\"],[0.6666666666666666,\"#ed7953\"],[0.7777777777777778,\"#fb9f3a\"],[0.8888888888888888,\"#fdca26\"],[1.0,\"#f0f921\"]],\"type\":\"contour\"}],\"contourcarpet\":[{\"colorbar\":{\"outlinewidth\":0,\"ticks\":\"\"},\"type\":\"contourcarpet\"}],\"heatmap\":[{\"colorbar\":{\"outlinewidth\":0,\"ticks\":\"\"},\"colorscale\":[[0.0,\"#0d0887\"],[0.1111111111111111,\"#46039f\"],[0.2222222222222222,\"#7201a8\"],[0.3333333333333333,\"#9c179e\"],[0.4444444444444444,\"#bd3786\"],[0.5555555555555556,\"#d8576b\"],[0.6666666666666666,\"#ed7953\"],[0.7777777777777778,\"#fb9f3a\"],[0.8888888888888888,\"#fdca26\"],[1.0,\"#f0f921\"]],\"type\":\"heatmap\"}],\"heatmapgl\":[{\"colorbar\":{\"outlinewidth\":0,\"ticks\":\"\"},\"colorscale\":[[0.0,\"#0d0887\"],[0.1111111111111111,\"#46039f\"],[0.2222222222222222,\"#7201a8\"],[0.3333333333333333,\"#9c179e\"],[0.4444444444444444,\"#bd3786\"],[0.5555555555555556,\"#d8576b\"],[0.6666666666666666,\"#ed7953\"],[0.7777777777777778,\"#fb9f3a\"],[0.8888888888888888,\"#fdca26\"],[1.0,\"#f0f921\"]],\"type\":\"heatmapgl\"}],\"histogram\":[{\"marker\":{\"pattern\":{\"fillmode\":\"overlay\",\"size\":10,\"solidity\":0.2}},\"type\":\"histogram\"}],\"histogram2d\":[{\"colorbar\":{\"outlinewidth\":0,\"ticks\":\"\"},\"colorscale\":[[0.0,\"#0d0887\"],[0.1111111111111111,\"#46039f\"],[0.2222222222222222,\"#7201a8\"],[0.3333333333333333,\"#9c179e\"],[0.4444444444444444,\"#bd3786\"],[0.5555555555555556,\"#d8576b\"],[0.6666666666666666,\"#ed7953\"],[0.7777777777777778,\"#fb9f3a\"],[0.8888888888888888,\"#fdca26\"],[1.0,\"#f0f921\"]],\"type\":\"histogram2d\"}],\"histogram2dcontour\":[{\"colorbar\":{\"outlinewidth\":0,\"ticks\":\"\"},\"colorscale\":[[0.0,\"#0d0887\"],[0.1111111111111111,\"#46039f\"],[0.2222222222222222,\"#7201a8\"],[0.3333333333333333,\"#9c179e\"],[0.4444444444444444,\"#bd3786\"],[0.5555555555555556,\"#d8576b\"],[0.6666666666666666,\"#ed7953\"],[0.7777777777777778,\"#fb9f3a\"],[0.8888888888888888,\"#fdca26\"],[1.0,\"#f0f921\"]],\"type\":\"histogram2dcontour\"}],\"mesh3d\":[{\"colorbar\":{\"outlinewidth\":0,\"ticks\":\"\"},\"type\":\"mesh3d\"}],\"parcoords\":[{\"line\":{\"colorbar\":{\"outlinewidth\":0,\"ticks\":\"\"}},\"type\":\"parcoords\"}],\"pie\":[{\"automargin\":true,\"type\":\"pie\"}],\"scatter\":[{\"marker\":{\"colorbar\":{\"outlinewidth\":0,\"ticks\":\"\"}},\"type\":\"scatter\"}],\"scatter3d\":[{\"line\":{\"colorbar\":{\"outlinewidth\":0,\"ticks\":\"\"}},\"marker\":{\"colorbar\":{\"outlinewidth\":0,\"ticks\":\"\"}},\"type\":\"scatter3d\"}],\"scattercarpet\":[{\"marker\":{\"colorbar\":{\"outlinewidth\":0,\"ticks\":\"\"}},\"type\":\"scattercarpet\"}],\"scattergeo\":[{\"marker\":{\"colorbar\":{\"outlinewidth\":0,\"ticks\":\"\"}},\"type\":\"scattergeo\"}],\"scattergl\":[{\"marker\":{\"colorbar\":{\"outlinewidth\":0,\"ticks\":\"\"}},\"type\":\"scattergl\"}],\"scattermapbox\":[{\"marker\":{\"colorbar\":{\"outlinewidth\":0,\"ticks\":\"\"}},\"type\":\"scattermapbox\"}],\"scatterpolar\":[{\"marker\":{\"colorbar\":{\"outlinewidth\":0,\"ticks\":\"\"}},\"type\":\"scatterpolar\"}],\"scatterpolargl\":[{\"marker\":{\"colorbar\":{\"outlinewidth\":0,\"ticks\":\"\"}},\"type\":\"scatterpolargl\"}],\"scatterternary\":[{\"marker\":{\"colorbar\":{\"outlinewidth\":0,\"ticks\":\"\"}},\"type\":\"scatterternary\"}],\"surface\":[{\"colorbar\":{\"outlinewidth\":0,\"ticks\":\"\"},\"colorscale\":[[0.0,\"#0d0887\"],[0.1111111111111111,\"#46039f\"],[0.2222222222222222,\"#7201a8\"],[0.3333333333333333,\"#9c179e\"],[0.4444444444444444,\"#bd3786\"],[0.5555555555555556,\"#d8576b\"],[0.6666666666666666,\"#ed7953\"],[0.7777777777777778,\"#fb9f3a\"],[0.8888888888888888,\"#fdca26\"],[1.0,\"#f0f921\"]],\"type\":\"surface\"}],\"table\":[{\"cells\":{\"fill\":{\"color\":\"#EBF0F8\"},\"line\":{\"color\":\"white\"}},\"header\":{\"fill\":{\"color\":\"#C8D4E3\"},\"line\":{\"color\":\"white\"}},\"type\":\"table\"}]},\"layout\":{\"annotationdefaults\":{\"arrowcolor\":\"#2a3f5f\",\"arrowhead\":0,\"arrowwidth\":1},\"autotypenumbers\":\"strict\",\"coloraxis\":{\"colorbar\":{\"outlinewidth\":0,\"ticks\":\"\"}},\"colorscale\":{\"diverging\":[[0,\"#8e0152\"],[0.1,\"#c51b7d\"],[0.2,\"#de77ae\"],[0.3,\"#f1b6da\"],[0.4,\"#fde0ef\"],[0.5,\"#f7f7f7\"],[0.6,\"#e6f5d0\"],[0.7,\"#b8e186\"],[0.8,\"#7fbc41\"],[0.9,\"#4d9221\"],[1,\"#276419\"]],\"sequential\":[[0.0,\"#0d0887\"],[0.1111111111111111,\"#46039f\"],[0.2222222222222222,\"#7201a8\"],[0.3333333333333333,\"#9c179e\"],[0.4444444444444444,\"#bd3786\"],[0.5555555555555556,\"#d8576b\"],[0.6666666666666666,\"#ed7953\"],[0.7777777777777778,\"#fb9f3a\"],[0.8888888888888888,\"#fdca26\"],[1.0,\"#f0f921\"]],\"sequentialminus\":[[0.0,\"#0d0887\"],[0.1111111111111111,\"#46039f\"],[0.2222222222222222,\"#7201a8\"],[0.3333333333333333,\"#9c179e\"],[0.4444444444444444,\"#bd3786\"],[0.5555555555555556,\"#d8576b\"],[0.6666666666666666,\"#ed7953\"],[0.7777777777777778,\"#fb9f3a\"],[0.8888888888888888,\"#fdca26\"],[1.0,\"#f0f921\"]]},\"colorway\":[\"#636efa\",\"#EF553B\",\"#00cc96\",\"#ab63fa\",\"#FFA15A\",\"#19d3f3\",\"#FF6692\",\"#B6E880\",\"#FF97FF\",\"#FECB52\"],\"font\":{\"color\":\"#2a3f5f\"},\"geo\":{\"bgcolor\":\"white\",\"lakecolor\":\"white\",\"landcolor\":\"#E5ECF6\",\"showlakes\":true,\"showland\":true,\"subunitcolor\":\"white\"},\"hoverlabel\":{\"align\":\"left\"},\"hovermode\":\"closest\",\"mapbox\":{\"style\":\"light\"},\"paper_bgcolor\":\"white\",\"plot_bgcolor\":\"#E5ECF6\",\"polar\":{\"angularaxis\":{\"gridcolor\":\"white\",\"linecolor\":\"white\",\"ticks\":\"\"},\"bgcolor\":\"#E5ECF6\",\"radialaxis\":{\"gridcolor\":\"white\",\"linecolor\":\"white\",\"ticks\":\"\"}},\"scene\":{\"xaxis\":{\"backgroundcolor\":\"#E5ECF6\",\"gridcolor\":\"white\",\"gridwidth\":2,\"linecolor\":\"white\",\"showbackground\":true,\"ticks\":\"\",\"zerolinecolor\":\"white\"},\"yaxis\":{\"backgroundcolor\":\"#E5ECF6\",\"gridcolor\":\"white\",\"gridwidth\":2,\"linecolor\":\"white\",\"showbackground\":true,\"ticks\":\"\",\"zerolinecolor\":\"white\"},\"zaxis\":{\"backgroundcolor\":\"#E5ECF6\",\"gridcolor\":\"white\",\"gridwidth\":2,\"linecolor\":\"white\",\"showbackground\":true,\"ticks\":\"\",\"zerolinecolor\":\"white\"}},\"shapedefaults\":{\"line\":{\"color\":\"#2a3f5f\"}},\"ternary\":{\"aaxis\":{\"gridcolor\":\"white\",\"linecolor\":\"white\",\"ticks\":\"\"},\"baxis\":{\"gridcolor\":\"white\",\"linecolor\":\"white\",\"ticks\":\"\"},\"bgcolor\":\"#E5ECF6\",\"caxis\":{\"gridcolor\":\"white\",\"linecolor\":\"white\",\"ticks\":\"\"}},\"title\":{\"x\":0.05},\"xaxis\":{\"automargin\":true,\"gridcolor\":\"white\",\"linecolor\":\"white\",\"ticks\":\"\",\"title\":{\"standoff\":15},\"zerolinecolor\":\"white\",\"zerolinewidth\":2},\"yaxis\":{\"automargin\":true,\"gridcolor\":\"white\",\"linecolor\":\"white\",\"ticks\":\"\",\"title\":{\"standoff\":15},\"zerolinecolor\":\"white\",\"zerolinewidth\":2}}}},                        {\"responsive\": true}                    ).then(function(){\n",
       "                            \n",
       "var gd = document.getElementById('99f76ca8-901f-40ac-9713-92085a1e7f62');\n",
       "var x = new MutationObserver(function (mutations, observer) {{\n",
       "        var display = window.getComputedStyle(gd).display;\n",
       "        if (!display || display === 'none') {{\n",
       "            console.log([gd, 'removed!']);\n",
       "            Plotly.purge(gd);\n",
       "            observer.disconnect();\n",
       "        }}\n",
       "}});\n",
       "\n",
       "// Listen for the removal of the full notebook cells\n",
       "var notebookContainer = gd.closest('#notebook-container');\n",
       "if (notebookContainer) {{\n",
       "    x.observe(notebookContainer, {childList: true});\n",
       "}}\n",
       "\n",
       "// Listen for the clearing of the current output cell\n",
       "var outputEl = gd.closest('.output');\n",
       "if (outputEl) {{\n",
       "    x.observe(outputEl, {childList: true});\n",
       "}}\n",
       "\n",
       "                        })                };                });            </script>        </div>"
      ]
     },
     "metadata": {},
     "output_type": "display_data"
    }
   ],
   "source": [
    "import plotly.graph_objects as go\n",
    "import numpy as np\n",
    "x = np.arange(100)\n",
    "\n",
    "fig = go.Figure(data=go.Scatter(x=x, y=metros_corredor(x)))\n",
    "fig.show()"
   ]
  },
  {
   "cell_type": "markdown",
   "id": "51afccbc",
   "metadata": {},
   "source": [
    "### Desafío:\n",
    "* graficar la función $$f(x) = x^3$$ definiendo una función en Python y mostrar las gráficas al incrementar 1,5,10\n"
   ]
  },
  {
   "cell_type": "code",
   "execution_count": 49,
   "id": "468fb19d",
   "metadata": {},
   "outputs": [],
   "source": [
    "def cubica(x,inc):\n",
    "    return x**3+inc"
   ]
  },
  {
   "cell_type": "code",
   "execution_count": 125,
   "id": "bb705b6a",
   "metadata": {},
   "outputs": [
    {
     "ename": "NameError",
     "evalue": "name 'go' is not defined",
     "output_type": "error",
     "traceback": [
      "\u001b[0;31m---------------------------------------------------------------------------\u001b[0m",
      "\u001b[0;31mNameError\u001b[0m                                 Traceback (most recent call last)",
      "\u001b[0;32m<ipython-input-125-c3c25bc56b87>\u001b[0m in \u001b[0;36m<module>\u001b[0;34m\u001b[0m\n\u001b[1;32m      1\u001b[0m \u001b[0mx\u001b[0m \u001b[0;34m=\u001b[0m \u001b[0mnp\u001b[0m\u001b[0;34m.\u001b[0m\u001b[0mlinspace\u001b[0m\u001b[0;34m(\u001b[0m\u001b[0;34m-\u001b[0m\u001b[0;36m3200\u001b[0m\u001b[0;34m,\u001b[0m\u001b[0;36m3200\u001b[0m\u001b[0;34m,\u001b[0m\u001b[0;36m1000\u001b[0m\u001b[0;34m)\u001b[0m\u001b[0;34m\u001b[0m\u001b[0;34m\u001b[0m\u001b[0m\n\u001b[1;32m      2\u001b[0m \u001b[0;34m\u001b[0m\u001b[0m\n\u001b[0;32m----> 3\u001b[0;31m \u001b[0mfig\u001b[0m \u001b[0;34m=\u001b[0m \u001b[0mgo\u001b[0m\u001b[0;34m.\u001b[0m\u001b[0mFigure\u001b[0m\u001b[0;34m(\u001b[0m\u001b[0mdata\u001b[0m\u001b[0;34m=\u001b[0m\u001b[0mgo\u001b[0m\u001b[0;34m.\u001b[0m\u001b[0mScatter\u001b[0m\u001b[0;34m(\u001b[0m\u001b[0mx\u001b[0m\u001b[0;34m=\u001b[0m\u001b[0mx\u001b[0m\u001b[0;34m,\u001b[0m \u001b[0my\u001b[0m\u001b[0;34m=\u001b[0m\u001b[0mcubica\u001b[0m\u001b[0;34m(\u001b[0m\u001b[0mx\u001b[0m\u001b[0;34m,\u001b[0m \u001b[0;36m0\u001b[0m\u001b[0;34m)\u001b[0m\u001b[0;34m)\u001b[0m\u001b[0;34m)\u001b[0m\u001b[0;34m\u001b[0m\u001b[0;34m\u001b[0m\u001b[0m\n\u001b[0m\u001b[1;32m      4\u001b[0m \u001b[0mfig\u001b[0m\u001b[0;34m.\u001b[0m\u001b[0mshow\u001b[0m\u001b[0;34m(\u001b[0m\u001b[0;34m)\u001b[0m\u001b[0;34m\u001b[0m\u001b[0;34m\u001b[0m\u001b[0m\n",
      "\u001b[0;31mNameError\u001b[0m: name 'go' is not defined"
     ]
    }
   ],
   "source": [
    "x = np.linspace(-3200,3200,1000)\n",
    "\n",
    "fig = go.Figure(data=go.Scatter(x=x, y=cubica(x, 0)))\n",
    "fig.show()"
   ]
  },
  {
   "cell_type": "code",
   "execution_count": 126,
   "id": "5aeda83b",
   "metadata": {},
   "outputs": [],
   "source": [
    "def caida_libre(t, h0, v0 = 0., g=9.8):\n",
    "  \"\"\"Devuelve la velocidad y la posición de una partícula en\n",
    "  caída libre para condiciones iniciales dadas\n",
    "\n",
    "  Parameters\n",
    "  ----------\n",
    "  t : float\n",
    "      el tiempo al que queremos realizar el cálculo\n",
    "  h0: float \n",
    "      la altura inicial\n",
    "  v0: float (opcional)\n",
    "      la velocidad inicial (default = 0.0)\n",
    "   g: float (opcional)\n",
    "      valor de la aceleración de la gravedad (default = 9.8)\n",
    "\n",
    "  Returns\n",
    "  -------\n",
    "  (v,h):  tuple of floats\n",
    "       v= v0 - g*t\n",
    "       h= h0 - v0*t -g*t^2/2\n",
    "  \n",
    "  \"\"\"\n",
    "  v = v0 - g*t\n",
    "  h = h0 - v0*t - g*t**2/2.\n",
    "  return v,h\n"
   ]
  },
  {
   "cell_type": "code",
   "execution_count": 128,
   "id": "937c49b7",
   "metadata": {},
   "outputs": [
    {
     "name": "stdout",
     "output_type": "stream",
     "text": [
      "(-19.6, 980.4)\n"
     ]
    }
   ],
   "source": [
    "# Desde 1000 metros con velocidad inicial cero\n",
    "print( caida_libre(2,1000))"
   ]
  },
  {
   "cell_type": "code",
   "execution_count": 153,
   "id": "6196d62b",
   "metadata": {},
   "outputs": [
    {
     "data": {
      "image/png": "[encoded data removed]",
      "text/plain": [
       "<Figure size 432x288 with 2 Axes>"
      ]
     },
     "metadata": {
      "needs_background": "light"
     },
     "output_type": "display_data"
    }
   ],
   "source": [
    "velocidad = []\n",
    "posicion = []\n",
    "for i in range(2,14):\n",
    "    v , p = caida_libre(i,1000)\n",
    "   \n",
    "    velocidad.append(v)\n",
    "    posicion.append(p)\n",
    "\n",
    "dibujo.subplot(1, 2, 1)  # 1 rows, 2 columns, 1st subplot = top left\n",
    "dibujo.plot(velocidad)\n",
    "dibujo.title(\"Velocidad\")\n",
    "dibujo.xlabel(\"Tiempo\")\n",
    "dibujo.subplot(1, 2, 2)  # 1 fila, 2 columnas, 1er subplot = top right\n",
    "\n",
    "dibujo.plot(posicion)\n",
    "dibujo.title(\"Posición\")\n",
    "dibujo.show()"
   ]
  },
  {
   "cell_type": "code",
   "execution_count": null,
   "id": "4b04d792",
   "metadata": {},
   "outputs": [],
   "source": [
    "# Desde 1000 metros con velocidad inicial hacia arriba\n",
    "print(caida_libre(1, 1000, 10))"
   ]
  },
  {
   "cell_type": "code",
   "execution_count": 159,
   "id": "3e4a3da7",
   "metadata": {},
   "outputs": [
    {
     "data": {
      "image/png": "[encoded data removed]",
      "text/plain": [
       "<Figure size 432x288 with 2 Axes>"
      ]
     },
     "metadata": {
      "needs_background": "light"
     },
     "output_type": "display_data"
    }
   ],
   "source": [
    "velocidad = []\n",
    "posicion = []\n",
    "for i in range(1,14):\n",
    "    v , p = caida_libre(i,1000,10)\n",
    "   \n",
    "    velocidad.append(v)\n",
    "    posicion.append(p)\n",
    "dibujo.figure(1)\n",
    "dibujo.subplot(1, 2, 1)  # 1 rows, 2 columns, 1st subplot = top left\n",
    "dibujo.plot(velocidad)\n",
    "dibujo.title(\"Velocidad\")\n",
    "dibujo.xlabel(\"Tiempo\")\n",
    "dibujo.subplot(1, 2, 2)  # 1 fila, 2 columnas, 1er subplot = top right\n",
    "\n",
    "dibujo.plot(posicion)\n",
    "dibujo.title(\"Posición\")\n",
    "dibujo.show()\n"
   ]
  },
  {
   "cell_type": "code",
   "execution_count": 160,
   "id": "841e295d",
   "metadata": {},
   "outputs": [
    {
     "data": {
      "image/png": "[encoded data removed]",
      "text/plain": [
       "<Figure size 432x288 with 2 Axes>"
      ]
     },
     "metadata": {
      "needs_background": "light"
     },
     "output_type": "display_data"
    }
   ],
   "source": [
    "velocidad_0 = []\n",
    "velocidad_10 = []\n",
    "for i in range(1,14):\n",
    "    v_0 = caida_libre(i,1000)\n",
    "    v_10 = caida_libre(i,1000,10)\n",
    "    velocidad_0.append(v_0)\n",
    "    velocidad_10.append(v_10)\n",
    "dibujo.figure(1)\n",
    "dibujo.subplot(1, 2, 1)  # 1 rows, 2 columns, 1er subplot = top left\n",
    "dibujo.plot(velocidad_0)\n",
    "dibujo.title(\"Velocidad 0\")\n",
    "dibujo.xlabel(\"Tiempo\")\n",
    "dibujo.subplot(1, 2, 2)  # 1 fila, 2 columnas, 2do subplot = top right\n",
    "\n",
    "dibujo.plot(velocidad_10)\n",
    "dibujo.title(\"Velocidad 10\")\n",
    "dibujo.show()\n"
   ]
  },
  {
   "cell_type": "code",
   "execution_count": 161,
   "id": "aeeed966",
   "metadata": {},
   "outputs": [
    {
     "name": "stdout",
     "output_type": "stream",
     "text": [
      "(-19.6, 980.4)\n"
     ]
    }
   ],
   "source": [
    "# Desde 1000 metros con velocidad inicial cero\n",
    "print(caida_libre(h0= 1000, t=2))"
   ]
  },
  {
   "cell_type": "code",
   "execution_count": 162,
   "id": "67a031a7",
   "metadata": {},
   "outputs": [
    {
     "name": "stdout",
     "output_type": "stream",
     "text": [
      "(-139.99999426000002, 8.199999820135417e-05)\n"
     ]
    }
   ],
   "source": [
    "# Desde 1000 metros con velocidad inicial cero en la luna\n",
    "print( caida_libre( v0=0, h0=1000, t=14.2857137))"
   ]
  },
  {
   "cell_type": "code",
   "execution_count": 163,
   "id": "db51264f",
   "metadata": {},
   "outputs": [
    {
     "name": "stdout",
     "output_type": "stream",
     "text": [
      "(-23.2142847625, 834.1836870663262)\n"
     ]
    }
   ],
   "source": [
    "# Desde 1000 metros con velocidad inicial cero en la luna\n",
    "print( caida_libre( v0=0, h0=1000, t=14.2857137, g=1.625))"
   ]
  },
  {
   "cell_type": "code",
   "execution_count": null,
   "id": "2eeed210",
   "metadata": {},
   "outputs": [],
   "source": []
  },
  {
   "cell_type": "markdown",
   "id": "305cd574",
   "metadata": {
    "slideshow": {
     "slide_type": "slide"
    }
   },
   "source": [
    "# Jupyter Widget y su interacción"
   ]
  },
  {
   "cell_type": "code",
   "execution_count": 51,
   "id": "1aca0228",
   "metadata": {
    "slideshow": {
     "slide_type": "fragment"
    }
   },
   "outputs": [],
   "source": [
    "from ipywidgets import interact"
   ]
  },
  {
   "cell_type": "code",
   "execution_count": 52,
   "id": "4797b908",
   "metadata": {
    "slideshow": {
     "slide_type": "subslide"
    }
   },
   "outputs": [
    {
     "data": {
      "application/vnd.jupyter.widget-view+json": {
       "model_id": "c7dcf5b810774d07b2fb5ac7ea92af74",
       "version_major": 2,
       "version_minor": 0
      },
      "text/plain": [
       "interactive(children=(IntSlider(value=50, description='x'), Output()), _dom_classes=('widget-interact',))"
      ]
     },
     "metadata": {},
     "output_type": "display_data"
    }
   ],
   "source": [
    "@interact(x=(0, 100))\n",
    "def duplicar_número(x):\n",
    "    print(\"El doble del número %d es %d.\" % (x, x*2))"
   ]
  },
  {
   "cell_type": "code",
   "execution_count": 53,
   "id": "6ba907cd",
   "metadata": {
    "slideshow": {
     "slide_type": "fragment"
    }
   },
   "outputs": [
    {
     "data": {
      "application/vnd.jupyter.widget-view+json": {
       "model_id": "1e51e95d8b774519b877b4f06904d8d1",
       "version_major": 2,
       "version_minor": 0
      },
      "text/plain": [
       "interactive(children=(IntSlider(value=5, description='y', max=10), Output()), _dom_classes=('widget-interact',…"
      ]
     },
     "metadata": {},
     "output_type": "display_data"
    }
   ],
   "source": [
    "@interact(y=(0, 10))\n",
    "def cuadrado_num(y):\n",
    "    print(\"El cuadrado del número %d es %d.\" % (y, y**2))"
   ]
  },
  {
   "cell_type": "markdown",
   "id": "c1767bb7",
   "metadata": {},
   "source": [
    "# Derivada como tasa de variación"
   ]
  },
  {
   "cell_type": "code",
   "execution_count": null,
   "id": "b786ab84",
   "metadata": {},
   "outputs": [],
   "source": []
  },
  {
   "cell_type": "code",
   "execution_count": 93,
   "id": "latter-transcription",
   "metadata": {},
   "outputs": [
    {
     "data": {
      "image/png": "[encoded data removed]",
      "text/plain": [
       "<Figure size 432x288 with 1 Axes>"
      ]
     },
     "metadata": {
      "needs_background": "light"
     },
     "output_type": "display_data"
    }
   ],
   "source": [
    "import matplotlib.pyplot as graficar\n",
    "import numpy as np\n",
    "x = np.linspace(-2, 2, 10)\n",
    "y = x**2\n",
    "\n",
    "graficar.plot(x, y)\n",
    "graficar.show()\n"
   ]
  },
  {
   "cell_type": "markdown",
   "id": "naval-modern",
   "metadata": {
    "slideshow": {
     "slide_type": "subslide"
    }
   },
   "source": [
    "\n",
    "F: https://colab.research.google.com/github/ivansipiran/AED-Apuntes/blob/main/01_Introduccion.ipynb#scrollTo=4OoJ5bHWihkv"
   ]
  },
  {
   "cell_type": "markdown",
   "id": "legislative-thickness",
   "metadata": {},
   "source": [
    "incorporar widget para cambiar cantidad de puntos"
   ]
  },
  {
   "cell_type": "code",
   "execution_count": 96,
   "id": "balanced-bacteria",
   "metadata": {},
   "outputs": [
    {
     "data": {
      "image/png": "[encoded data removed]",
      "text/plain": [
       "<Figure size 432x288 with 1 Axes>"
      ]
     },
     "metadata": {
      "needs_background": "light"
     },
     "output_type": "display_data"
    }
   ],
   "source": [
    "graficar.plot(x, y)\n",
    "graficar.title(\"Funcion Cuadrada\")\n",
    "graficar.xlabel(\"x\")\n",
    "graficar.ylabel(\"y = x**2\")\n",
    "graficar.grid(True)\n",
    "graficar.show()"
   ]
  },
  {
   "cell_type": "code",
   "execution_count": 13,
   "id": "sunset-literacy",
   "metadata": {},
   "outputs": [
    {
     "data": {
      "image/png": "[encoded data removed]",
      "text/plain": [
       "<Figure size 432x288 with 1 Axes>"
      ]
     },
     "metadata": {
      "needs_background": "light"
     },
     "output_type": "display_data"
    }
   ],
   "source": [
    "x = np.linspace(-1.5, 1.5, 30)\n",
    "px = 0.8\n",
    "py = px**2\n",
    "\n",
    "dibujo.plot(x, x**2, \"b-\", px, py, \"ro\")\n",
    "\n",
    "dibujo.text(0, 1.5, \"Square function\\n$y = x^2$\", fontsize=20, color='blue', horizontalalignment=\"center\")\n",
    "dibujo.text(px - 0.08, py, \"Beautiful point\", ha=\"right\", weight=\"heavy\")\n",
    "dibujo.text(px, py, \"x = %0.2f\\ny = %0.2f\"%(px, py), rotation=50, color='gray')\n",
    "\n",
    "dibujo.show()"
   ]
  },
  {
   "cell_type": "code",
   "execution_count": 14,
   "id": "educational-association",
   "metadata": {},
   "outputs": [
    {
     "data": {
      "image/png": "[encoded data removed]",
      "text/plain": [
       "<Figure size 432x288 with 1 Axes>"
      ]
     },
     "metadata": {
      "needs_background": "light"
     },
     "output_type": "display_data"
    }
   ],
   "source": [
    "## https://matplotlib.org/\n",
    "\n",
    "x = np.linspace(-1.4, 1.4, 30)\n",
    "dibujo.plot(x, x, 'g--', x, x**2, 'r:', x, x**3, 'b^')\n",
    "dibujo.show()"
   ]
  },
  {
   "cell_type": "markdown",
   "id": "interested-export",
   "metadata": {},
   "source": [
    "Graficar con los datos de temperatura, humedad y viento"
   ]
  },
  {
   "cell_type": "markdown",
   "id": "unexpected-trademark",
   "metadata": {},
   "source": [
    "Graficar con datos de cada región"
   ]
  },
  {
   "cell_type": "markdown",
   "id": "artificial-abortion",
   "metadata": {},
   "source": [
    "Convertir temperatura farnheit a Celsius"
   ]
  },
  {
   "cell_type": "markdown",
   "id": "stable-specialist",
   "metadata": {},
   "source": [
    "LImites: \n",
    "    * velocidad\n",
    "Derivadas, maximo y minimo:\n",
    "    * gastos"
   ]
  },
  {
   "cell_type": "markdown",
   "id": "specified-courtesy",
   "metadata": {},
   "source": [
    "* Funciones matemáticas predefinidas en Python"
   ]
  },
  {
   "cell_type": "markdown",
   "id": "western-niger",
   "metadata": {
    "slideshow": {
     "slide_type": "subslide"
    }
   },
   "source": [
    "## Módulo math:\n",
    "* [Documentación](https://docs.python.org/es/3/library/math.html?)\n",
    "* Algunas funciones: \n",
    "  * factorial\n",
    "  * pow: potencia de un número\n",
    "  * sqrt: la raíz cuadrada de un número\n",
    "  * exp: exponencial\n",
    "  * log: logaritmo natural de un número\n",
    "* Otras operaciones matemáticas:\n",
    "  * gcd: máximo común divisor\n",
    "  * lcm: mínimo coún múltiplo\n",
    "\n"
   ]
  },
  {
   "cell_type": "markdown",
   "id": "empirical-stations",
   "metadata": {
    "slideshow": {
     "slide_type": "slide"
    }
   },
   "source": [
    "**Ejercicio** \n",
    "\n",
    "Encuentre la función que permite calcular el resto de una división y la que da como resultado la parte entera y la faccionaria de un número."
   ]
  }
 ],
 "metadata": {
  "celltoolbar": "Slideshow",
  "kernelspec": {
   "display_name": "Python 3",
   "language": "python",
   "name": "python3"
  },
  "language_info": {
   "codemirror_mode": {
    "name": "ipython",
    "version": 3
   },
   "file_extension": ".py",
   "mimetype": "text/x-python",
   "name": "python",
   "nbconvert_exporter": "python",
   "pygments_lexer": "ipython3",
   "version": "3.8.10"
  }
 },
 "nbformat": 4,
 "nbformat_minor": 5
}
